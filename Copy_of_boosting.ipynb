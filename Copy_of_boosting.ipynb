{
  "nbformat": 4,
  "nbformat_minor": 0,
  "metadata": {
    "org": null,
    "kernelspec": {
      "display_name": "Python 3",
      "language": "python",
      "name": "python3"
    },
    "language_info": {
      "codemirror_mode": {
        "name": "ipython",
        "version": 3
      },
      "file_extension": ".py",
      "mimetype": "text/x-python",
      "name": "python",
      "nbconvert_exporter": "python",
      "pygments_lexer": "ipython3",
      "version": "3.5.2"
    },
    "colab": {
      "name": "Copy of boosting.ipynb",
      "provenance": [],
      "include_colab_link": true
    }
  },
  "cells": [
    {
      "cell_type": "markdown",
      "metadata": {
        "id": "view-in-github",
        "colab_type": "text"
      },
      "source": [
        "<a href=\"https://colab.research.google.com/github/drtamakloe/hello-world/blob/master/Copy_of_boosting.ipynb\" target=\"_parent\"><img src=\"https://colab.research.google.com/assets/colab-badge.svg\" alt=\"Open In Colab\"/></a>"
      ]
    },
    {
      "cell_type": "markdown",
      "metadata": {
        "id": "0p99pavWtvAw",
        "colab_type": "text"
      },
      "source": [
        "## Introduction\n",
        "\n"
      ]
    },
    {
      "cell_type": "markdown",
      "metadata": {
        "id": "WlNqj2PntvAy",
        "colab_type": "text"
      },
      "source": [
        "-   [https://git.io/ml2019-9](https://git.io/ml2019-9)\n",
        "-   Today's lecture covers training, testing and ensemble classifiers\n",
        "-   We will further explore the bias-variance tradeoff and see some ways\n",
        "    to deal with it\n",
        "-   As before, the setup is we have some input in $\\mathbb{R}^n$ with\n",
        "    known labels\n",
        "-   We want to find a function that will send the known inputs to the\n",
        "    correct label and generalize to unseen data\n",
        "    -   Generalize = the procedure should correctly classify unseen input\n",
        "\n"
      ]
    },
    {
      "cell_type": "markdown",
      "metadata": {
        "id": "mej7IHTGtvA1",
        "colab_type": "text"
      },
      "source": [
        "## Some Data\n",
        "\n"
      ]
    },
    {
      "cell_type": "markdown",
      "metadata": {
        "id": "9jVx0GMztvA4",
        "colab_type": "text"
      },
      "source": [
        "### :BMCOL:\n",
        "\n"
      ]
    },
    {
      "cell_type": "markdown",
      "metadata": {
        "id": "oXYihjz0tvA6",
        "colab_type": "text"
      },
      "source": [
        "![img](https://github.com/uos-computing-for-particle-physics/09-ensembles-drtamakloe/blob/master/.ob-jupyter/877c932cb1d90111683e615d3a618a2f2745f294.png?raw=1)\n",
        "\n",
        "![img](https://github.com/uos-computing-for-particle-physics/09-ensembles-drtamakloe/blob/master/.ob-jupyter/84aee0fcaba34d1412d38adc0756d58fd851e258.png?raw=1)\n",
        "\n"
      ]
    },
    {
      "cell_type": "markdown",
      "metadata": {
        "id": "8qt9K9CQtvA9",
        "colab_type": "text"
      },
      "source": [
        "### :BMCOL:\n",
        "\n"
      ]
    },
    {
      "cell_type": "markdown",
      "metadata": {
        "id": "6Q1ma1rttvA_",
        "colab_type": "text"
      },
      "source": [
        "-   Some synthetic data (i.e. created artificially) we will use to illustrate today's concepts\n",
        "-   Has 3 categories with 2 variables, lots of overlaps\n",
        "-   Running a decision tree over the data gives a highly overfitted result\n",
        "\n"
      ]
    },
    {
      "cell_type": "markdown",
      "metadata": {
        "id": "ilQr9FTOtvBC",
        "colab_type": "text"
      },
      "source": [
        "## Training and Testing\n",
        "\n"
      ]
    },
    {
      "cell_type": "markdown",
      "metadata": {
        "id": "r8270BVMtvBE",
        "colab_type": "text"
      },
      "source": [
        "### :BMCOL:\n",
        "\n"
      ]
    },
    {
      "cell_type": "markdown",
      "metadata": {
        "id": "ou2Mn3x8tvBF",
        "colab_type": "text"
      },
      "source": [
        "![img](https://github.com/uos-computing-for-particle-physics/09-ensembles-drtamakloe/blob/master/.ob-jupyter/c7e86d2397e7b6dfe1f41c842f1c392514862926.png?raw=1)\n",
        "![img](https://github.com/uos-computing-for-particle-physics/09-ensembles-drtamakloe/blob/master/.ob-jupyter/effa9a8b98473d5c6092f241bfae739eaeabd2b5.png?raw=1)\n",
        "\n",
        "    ntrain = 200 # total data has 250 datapoints\n",
        "    x, y = X[:ntrain], Y[:ntrain] # take 200 for training\n",
        "    tx, ty = X[ntrain:], Y[ntrain:] # take 50 for testing\n",
        "    tree = DecisionTreeClassifier(); _ = tree.fit(x,y)\n",
        "\n"
      ]
    },
    {
      "cell_type": "markdown",
      "metadata": {
        "id": "K3jpp-3htvBH",
        "colab_type": "text"
      },
      "source": [
        "### :BMCOL:\n",
        "\n"
      ]
    },
    {
      "cell_type": "markdown",
      "metadata": {
        "id": "LcH-FzsEtvBK",
        "colab_type": "text"
      },
      "source": [
        "-   In order to understand the bias-variance trade off, we need some way to see if we're overfitting the data\n",
        "-   Without a priori knowledge of the data distribution, we need some way to test this, using the data itself\n",
        "-   We can do this by setting aside some portion of the data, the testing set, and only train on the remaining data, the training set\n",
        "-   If we take 80% of the previous page data and fit the tree, overlaying the output shows clear overtraining (e.g. blue in cut out blocks of green)\n",
        "\n"
      ]
    },
    {
      "cell_type": "markdown",
      "metadata": {
        "id": "omG4dfVCtvBM",
        "colab_type": "text"
      },
      "source": [
        "## Bias vs Variance\n",
        "\n"
      ]
    },
    {
      "cell_type": "markdown",
      "metadata": {
        "id": "ng6b3N4wtvBN",
        "colab_type": "text"
      },
      "source": [
        "![img](https://github.com/uos-computing-for-particle-physics/09-ensembles-drtamakloe/blob/master/.ob-jupyter/3c56c4d1607d537fef5fc820b08790dd47d839a8.png?raw=1)\n",
        "\n",
        "![img](https://github.com/uos-computing-for-particle-physics/09-ensembles-drtamakloe/blob/master/.ob-jupyter/29fed7a2e0c502b753ab96cc83f96b0bb18cee12.png?raw=1)\n",
        "\n",
        "-   We can see this particularly clearly by plotting some metrics\n",
        "    against the depth of the tree (= complexity of model)\n",
        "-   Accuracy: fraction of data classified correctly\n",
        "-   MSE: mean squared error, for our tree, use the the average of\n",
        "    `(1-predict_proba(x))**2` taking `proba` of the known true labels `y`\n",
        "-   As we increase the max depth, the training set gets more accurate, \n",
        "    the test set diverges, and becomes less accurate, this is overfitting\n",
        "    -   This is a general feature, the point where the training and\n",
        "        testing diverge is usually the best point to take when\n",
        "        *hyperparameter* fitting\n",
        "\n"
      ]
    },
    {
      "cell_type": "markdown",
      "metadata": {
        "id": "wbvDJisKtvBP",
        "colab_type": "text"
      },
      "source": [
        "## Controlling Variance: Bootstrap Datasets\n",
        "\n"
      ]
    },
    {
      "cell_type": "markdown",
      "metadata": {
        "id": "frKItwtytvBR",
        "colab_type": "text"
      },
      "source": [
        "![img](https://github.com/uos-computing-for-particle-physics/09-ensembles-drtamakloe/blob/master/bootstrap.png?raw=1)\n",
        "\n",
        "-   A *bootstrapped dataset* is created by taking an old dataset, and using it to build a new dataset\n",
        "-   We take datapoints at random from the old dataset *with replacement*, until we have a dataset the same size as the original\n",
        "    -   *with replacement*: that is, we pick a datapoint from a bag of all\n",
        "        the datapoints, note it down, then put it back in the bag for the\n",
        "        next time\n",
        "-   This generates a dataset the same size as the original, but with points possibly repeated\n",
        "-   These bootstrapped datasets are used in statistics to generate\n",
        "    model-free estimates of e.g. the approximate variance of the\n",
        "    estimated mean obtained from the dataset\n",
        "-   Will we apply the same idea to generate a more generalizable classifier\n",
        "\n"
      ]
    },
    {
      "cell_type": "markdown",
      "metadata": {
        "id": "oLQczgxztvBS",
        "colab_type": "text"
      },
      "source": [
        "## Controlling Variance: Ensemble Classifiers; Bagging\n",
        "\n"
      ]
    },
    {
      "cell_type": "markdown",
      "metadata": {
        "id": "Sz_Q27kEtvBU",
        "colab_type": "text"
      },
      "source": [
        "![img](https://github.com/uos-computing-for-particle-physics/09-ensembles-drtamakloe/blob/master/bagging.png?raw=1)\n",
        "\n",
        "-   *Ensemble classifiers* combine several separate classifiers into a single output\n",
        "-   For example, we can create them them by letting each classifier\n",
        "    *vote* on the output, and taking the winner of the vote as our\n",
        "    output\n",
        "    -   We could also, e.g., average the outputs of `predict_proba` and\n",
        "        classify from there\n",
        "-   In bagging, we build several classifiers from bootstrapped datasets\n",
        "    and join them together as an ensemble classifier\n",
        "-   Basically we use the bootstrapped datasets to develop a new\n",
        "    classifier which will average out the outliers, smooth the edges\n",
        "-   Bagging reduces the variance of the classifier (smooth out output)\n",
        "    at the expense of an increase in the bias (not fitting outliers\n",
        "    exactly)\n",
        "\n"
      ]
    },
    {
      "cell_type": "markdown",
      "metadata": {
        "id": "i6Ihq0sxtvBU",
        "colab_type": "text"
      },
      "source": [
        "## Bagging Decision Trees\n",
        "\n"
      ]
    },
    {
      "cell_type": "markdown",
      "metadata": {
        "id": "lhvrcIk6tvBW",
        "colab_type": "text"
      },
      "source": [
        "-   In sklearn, there is a `BaggingClassifier` in `sklearn.ensemble`,\n",
        "    which can take some other classifier and create a bagging classifier\n",
        "-   Here we created a bagging ensemble of `DecisionTreeClassifiers`\n",
        "-   We can set the parameters of the `DecisionTreeClassifiers` as we like,\n",
        "    and pass in the numbers of bags to use as `n_estimators`\n",
        "-   Plots showing accuracy and mse under various hyperparameters\n",
        "    -   Optimal hyperparameters vary the data, you'll need to explore the space\n",
        "\n",
        "    from sklearn.ensemble import BaggingClassifier\n",
        "    tree = BaggingClassifier(DecisionTreeClassifier(max_depth=2), n_estimators=10)\n",
        "\n",
        "![img](https://github.com/uos-computing-for-particle-physics/09-ensembles-drtamakloe/blob/master/.ob-jupyter/3d32d2fdba24aacf2356a1babf989fb918ada710.png?raw=1)\n",
        "\n",
        "![img](https://github.com/uos-computing-for-particle-physics/09-ensembles-drtamakloe/blob/master/.ob-jupyter/fed311f882068dbbdc041306c41701cd8a6854a9.png?raw=1)\n",
        "\n"
      ]
    },
    {
      "cell_type": "markdown",
      "metadata": {
        "id": "UYI64ytctvBX",
        "colab_type": "text"
      },
      "source": [
        "## Example Trees\n",
        "\n"
      ]
    },
    {
      "cell_type": "markdown",
      "metadata": {
        "id": "hQgbhH-dtvBZ",
        "colab_type": "text"
      },
      "source": [
        "![img](https://github.com/uos-computing-for-particle-physics/09-ensembles-drtamakloe/blob/master/.ob-jupyter/39596e8b2c5596d22042fe33035b233e7efe93e3.png?raw=1)\n",
        "\n",
        "![img](https://github.com/uos-computing-for-particle-physics/09-ensembles-drtamakloe/blob/master/.ob-jupyter/491023be6f0704026c08404c1704d91bdd571ca3.png?raw=1)\n",
        "\n",
        "![img](https://github.com/uos-computing-for-particle-physics/09-ensembles-drtamakloe/blob/master/.ob-jupyter/b995dd007b5622cd7956a6ea027d20a8c0639734.png?raw=1)\n",
        "\n",
        "![img](https://github.com/uos-computing-for-particle-physics/09-ensembles-drtamakloe/blob/master/.ob-jupyter/09fc951d3f29272aae9f75d07bff5f27fcf1c766.png?raw=1)\n",
        "\n",
        "![img](https://github.com/uos-computing-for-particle-physics/09-ensembles-drtamakloe/blob/master/.ob-jupyter/b5b935fbd898d8f253287ee432ac581c64eacd24.png?raw=1)\n",
        "\n",
        "![img](https://github.com/uos-computing-for-particle-physics/09-ensembles-drtamakloe/blob/master/.ob-jupyter/6a39e293a4fe191112e24baf0f526cce1c6b4836.png?raw=1)\n",
        "\n",
        "-   Example bagging outputs, depth 4, with various numbers of trees\n",
        "-   Compared to a full decision tree, the bagged classifiers smooth out the regions, with less fitting to outliers\n",
        "\n"
      ]
    },
    {
      "cell_type": "markdown",
      "metadata": {
        "id": "VsKQL5wltvBb",
        "colab_type": "text"
      },
      "source": [
        "## Boosting\n",
        "\n"
      ]
    },
    {
      "cell_type": "markdown",
      "metadata": {
        "id": "ZWPYGF2CtvBc",
        "colab_type": "text"
      },
      "source": [
        "-   We can use ensemble classifiers in a different way also, to control bias\n",
        "-   In Boosting, we start with a weak classifier (barely better than\n",
        "    random chance), and put them together to form a strong classifier\n",
        "-   This is done by *weighting* the data for each classifier we train\n",
        "-   E.g. start with a depth 1 `DecisionTreeClassifier`, weight the\n",
        "    misclassified data higher, and the correctly classified data lower\n",
        "-   Train a depth 1 tree on the reweighted data, this gives a different\n",
        "    tree, since the gini index will be calculated based on the\n",
        "    *weights*, instead of just taking the number of entries in each bucket\n",
        "-   This scheme is AdaBoost, there are also other variations, such as\n",
        "    Gradient boosting, but in all the idea is to take a weak classifier\n",
        "    and train up an ensemble of strong classifiers\n",
        "\n"
      ]
    },
    {
      "cell_type": "markdown",
      "metadata": {
        "id": "KcG0W1bltvBf",
        "colab_type": "text"
      },
      "source": [
        "## Boosting\n",
        "\n"
      ]
    },
    {
      "cell_type": "markdown",
      "metadata": {
        "id": "QASNUXhgtvBg",
        "colab_type": "text"
      },
      "source": [
        "![img](https://github.com/uos-computing-for-particle-physics/09-ensembles-drtamakloe/blob/master/boosting.png?raw=1)\n",
        "\n",
        "![img](https://github.com/uos-computing-for-particle-physics/09-ensembles-drtamakloe/blob/master/boosting_eg.png?raw=1)\n",
        "\n",
        "-   Left shows a regression task, but the idea is the same, the further\n",
        "    the curve is from a point, the higher its weighted in the next tree\n",
        "-   How quickly the weights change are controlled by the `learning_rate`\n",
        "-   After training, the output is taking as a weighted average of the\n",
        "    trees, the weight of each tree proportional to the number of\n",
        "    correctly classified training datapoints it produced\n",
        "-   Chapter 7 of \"Hands-On Machine Learning with Scikit-Learn, Keras,\n",
        "    and TensorFlow, 2nd Edition\" has the details\n",
        "\n"
      ]
    },
    {
      "cell_type": "markdown",
      "metadata": {
        "id": "jof-vJuftvBh",
        "colab_type": "text"
      },
      "source": [
        "## Boosting Decision Trees\n",
        "\n"
      ]
    },
    {
      "cell_type": "markdown",
      "metadata": {
        "id": "WapTDm4vtvBi",
        "colab_type": "text"
      },
      "source": [
        "![img](https://github.com/uos-computing-for-particle-physics/09-ensembles-drtamakloe/blob/master/.ob-jupyter/e1aa74e241cd148f5153fe528d22f23425c68e20.png?raw=1)\n",
        "\n",
        "![img](https://github.com/uos-computing-for-particle-physics/09-ensembles-drtamakloe/blob/master/.ob-jupyter/5a5ff25e94647cea45ce12ef566193b390e65235.png?raw=1)\n",
        "\n",
        "-   Various number of depth 1 decision trees trained with AdaBoost\n",
        "-   If the learning rate is too high, the boosting overcorrects too quickly, and we don't get good testing results\n",
        "-   With a lower learning rate, the boosting helps us get a more accurate classifier\n",
        "\n"
      ]
    },
    {
      "cell_type": "markdown",
      "metadata": {
        "id": "DOzvNc6ttvBj",
        "colab_type": "text"
      },
      "source": [
        "## Exercises\n",
        "\n"
      ]
    },
    {
      "cell_type": "markdown",
      "metadata": {
        "id": "Liw1EheNtvBk",
        "colab_type": "text"
      },
      "source": [
        "See the notebook.\n",
        "\n",
        "We will start with the iris data, then move onto a new dataset.\n",
        "\n",
        "We will use bagged decision trees to try to classify high-income and\n",
        "low-income earners, based on US census information.\n",
        "\n",
        "Start with the iris data, for sepal width and length\n",
        "\n"
      ]
    },
    {
      "cell_type": "code",
      "metadata": {
        "id": "y1uCJX5dtvBm",
        "colab_type": "code",
        "outputId": "69779c40-ced8-49ee-b09a-2d8074c72690",
        "colab": {
          "base_uri": "https://localhost:8080/",
          "height": 514
        }
      },
      "source": [
        "from sklearn.tree import DecisionTreeClassifier\n",
        "from sklearn.tree import DecisionTreeRegressor\n",
        "import pandas as pd\n",
        "import numpy as np\n",
        "\n",
        "!wget https://archive.ics.uci.edu/ml/machine-learning-databases/iris/iris.data\n",
        "!wget https://archive.ics.uci.edu/ml/machine-learning-databases/iris/iris.names\n",
        "\n",
        "iris = pd.read_csv('iris.data', header=None, names=['sl', 'sw', 'pl', 'pw', 'cl'])\n",
        "X = iris[['sw','sl']].to_numpy()\n",
        "names, Y = np.unique(iris['cl'], return_inverse=True) # setosa, virginicia eta => 0,1,2\n",
        "tree = DecisionTreeClassifier(max_depth=2)\n",
        "tree.fit(X,Y)"
      ],
      "execution_count": 0,
      "outputs": [
        {
          "output_type": "stream",
          "text": [
            "--2019-12-11 13:16:19--  https://archive.ics.uci.edu/ml/machine-learning-databases/iris/iris.data\n",
            "Resolving archive.ics.uci.edu (archive.ics.uci.edu)... 128.195.10.252\n",
            "Connecting to archive.ics.uci.edu (archive.ics.uci.edu)|128.195.10.252|:443... connected.\n",
            "HTTP request sent, awaiting response... 200 OK\n",
            "Length: 4551 (4.4K) [application/x-httpd-php]\n",
            "Saving to: ‘iris.data’\n",
            "\n",
            "\riris.data             0%[                    ]       0  --.-KB/s               \riris.data           100%[===================>]   4.44K  --.-KB/s    in 0s      \n",
            "\n",
            "2019-12-11 13:16:19 (103 MB/s) - ‘iris.data’ saved [4551/4551]\n",
            "\n",
            "--2019-12-11 13:16:21--  https://archive.ics.uci.edu/ml/machine-learning-databases/iris/iris.names\n",
            "Resolving archive.ics.uci.edu (archive.ics.uci.edu)... 128.195.10.252\n",
            "Connecting to archive.ics.uci.edu (archive.ics.uci.edu)|128.195.10.252|:443... connected.\n",
            "HTTP request sent, awaiting response... 200 OK\n",
            "Length: 2998 (2.9K) [application/x-httpd-php]\n",
            "Saving to: ‘iris.names’\n",
            "\n",
            "iris.names          100%[===================>]   2.93K  --.-KB/s    in 0s      \n",
            "\n",
            "2019-12-11 13:16:22 (77.3 MB/s) - ‘iris.names’ saved [2998/2998]\n",
            "\n"
          ],
          "name": "stdout"
        },
        {
          "output_type": "execute_result",
          "data": {
            "text/plain": [
              "DecisionTreeClassifier(class_weight=None, criterion='gini', max_depth=2,\n",
              "                       max_features=None, max_leaf_nodes=None,\n",
              "                       min_impurity_decrease=0.0, min_impurity_split=None,\n",
              "                       min_samples_leaf=1, min_samples_split=2,\n",
              "                       min_weight_fraction_leaf=0.0, presort=False,\n",
              "                       random_state=None, splitter='best')"
            ]
          },
          "metadata": {
            "tags": []
          },
          "execution_count": 5
        }
      ]
    },
    {
      "cell_type": "markdown",
      "metadata": {
        "id": "R1NjYquHtvBr",
        "colab_type": "text"
      },
      "source": [
        "I've given you a helper function which can `draw` the 2D plots. Make\n",
        "plots for a basic `DecisionTreeClassifier` and a bagging classifier\n",
        "made from many, many DecisionTreeClassifiers (several thousand), and\n",
        "an `AdaBoostClassifier` of many depth 1 DecisionTreeClassifiers. How\n",
        "do the boundaries compare?\n",
        "\n"
      ]
    },
    {
      "cell_type": "code",
      "metadata": {
        "id": "Ql51soB7tvBu",
        "colab_type": "code",
        "outputId": "33c54c17-b1c5-4815-ccd3-560375e1ca26",
        "colab": {
          "base_uri": "https://localhost:8080/",
          "height": 264
        }
      },
      "source": [
        "def draw(X,Y, tree, label=''):\n",
        "  x_min, x_max = X[:, 0].min() - .5, X[:, 0].max() + .5\n",
        "  y_min, y_max = X[:, 1].min() - .5, X[:, 1].max() + .5\n",
        "  # Pick some colors for the iris'\n",
        "  myse,myvi,myve = (0.2,0.2,0.8),(0.2,0.8,0.2),(0.8,0.2,0.2)\n",
        "  cmap = [myse, myve, myvi] # based on the names array\n",
        "  x,y = np.meshgrid(np.linspace(x_min, x_max, 200), np.linspace(y_min, y_max, 200))\n",
        "  pred = tree.predict(np.column_stack([x.reshape(-1), y.reshape(-1)]))\n",
        "  z = np.array([cmap[p] for p in pred]).reshape((200,200,3))\n",
        "  # Put the result into a color plot\n",
        "  plt.imshow(z, extent=(x_min,x_max,y_min,y_max), origin='bottom-left', aspect='auto')\n",
        "  # Plot also the training points\n",
        "  X0 = X[Y==0]; X1 = X[Y==1]; X2 = X[Y==2]\n",
        "  _ = plt.scatter(X0[:,0], X0[:,1], c=[myse], edgecolor='k')\n",
        "  _ = plt.scatter(X1[:,0], X1[:,1], c=[myve], edgecolor='k')\n",
        "  _ = plt.scatter(X2[:,0], X2[:,1], c=[myvi], edgecolor='k')\n",
        "  plt.title(label)\n",
        "  plt.show()\n",
        "\n",
        "# Your code here\n",
        "draw(X, Y, tree)"
      ],
      "execution_count": 0,
      "outputs": [
        {
          "output_type": "display_data",
          "data": {
            "image/png": "[encoded data removed]",
            "text/plain": [
              "<Figure size 432x288 with 1 Axes>"
            ]
          },
          "metadata": {
            "tags": []
          }
        }
      ]
    },
    {
      "cell_type": "code",
      "metadata": {
        "id": "YdtlDt8L2_Iw",
        "colab_type": "code",
        "colab": {}
      },
      "source": [
        "from sklearn.ensemble import BaggingClassifier\n",
        "tree1 = BaggingClassifier(DecisionTreeClassifier(max_depth=15), n_estimators=1000)"
      ],
      "execution_count": 0,
      "outputs": []
    },
    {
      "cell_type": "code",
      "metadata": {
        "id": "hU8DeLrt4Qmp",
        "colab_type": "code",
        "outputId": "9057e4ee-f9d2-4d82-950f-fdb7f5d89ddd",
        "colab": {
          "base_uri": "https://localhost:8080/",
          "height": 264
        }
      },
      "source": [
        "tree1.fit(X,Y)\n",
        "draw(X, Y, tree1)"
      ],
      "execution_count": 0,
      "outputs": [
        {
          "output_type": "display_data",
          "data": {
            "image/png": "[encoded data removed]",
            "text/plain": [
              "<Figure size 432x288 with 1 Axes>"
            ]
          },
          "metadata": {
            "tags": []
          }
        }
      ]
    },
    {
      "cell_type": "code",
      "metadata": {
        "id": "p50g_eXY5Viu",
        "colab_type": "code",
        "colab": {}
      },
      "source": [
        "from sklearn.ensemble import AdaBoostClassifier\n",
        "tree2 = AdaBoostClassifier(DecisionTreeClassifier(max_depth=1), n_estimators=10000)"
      ],
      "execution_count": 0,
      "outputs": []
    },
    {
      "cell_type": "code",
      "metadata": {
        "id": "X5uIlsvT7KDH",
        "colab_type": "code",
        "outputId": "0748e0a0-0c4c-4981-cce0-e8c6c6833d71",
        "colab": {
          "base_uri": "https://localhost:8080/",
          "height": 264
        }
      },
      "source": [
        "tree2.fit(X,Y)\n",
        "draw(X, Y, tree2)"
      ],
      "execution_count": 0,
      "outputs": [
        {
          "output_type": "display_data",
          "data": {
            "image/png": "[encoded data removed]",
            "text/plain": [
              "<Figure size 432x288 with 1 Axes>"
            ]
          },
          "metadata": {
            "tags": []
          }
        }
      ]
    },
    {
      "cell_type": "code",
      "metadata": {
        "id": "CRsZ7k2_87r7",
        "colab_type": "code",
        "colab": {}
      },
      "source": [
        ""
      ],
      "execution_count": 0,
      "outputs": []
    },
    {
      "cell_type": "markdown",
      "metadata": {
        "id": "7Jz-TBb_tvBx",
        "colab_type": "text"
      },
      "source": [
        "Now, lets look at the adult dataset.\n",
        "\n",
        "Grab the data, and read the information about it in `adult.names`:\n",
        "\n"
      ]
    },
    {
      "cell_type": "code",
      "metadata": {
        "id": "Tn2mXF4HtvBy",
        "colab_type": "code",
        "outputId": "96425a6e-24c3-43ec-a1ed-0a7b0a2ab68c",
        "colab": {
          "base_uri": "https://localhost:8080/",
          "height": 1000
        }
      },
      "source": [
        "!wget https://archive.ics.uci.edu/ml/machine-learning-databases/adult/adult.test\n",
        "!wget https://archive.ics.uci.edu/ml/machine-learning-databases/adult/adult.data\n",
        "!wget https://archive.ics.uci.edu/ml/machine-learning-databases/adult/adult.names\n",
        "!cat adult.names"
      ],
      "execution_count": 0,
      "outputs": [
        {
          "output_type": "stream",
          "text": [
            "--2019-12-11 13:13:09--  https://archive.ics.uci.edu/ml/machine-learning-databases/adult/adult.test\n",
            "Resolving archive.ics.uci.edu (archive.ics.uci.edu)... 128.195.10.252\n",
            "Connecting to archive.ics.uci.edu (archive.ics.uci.edu)|128.195.10.252|:443... connected.\n",
            "HTTP request sent, awaiting response... 200 OK\n",
            "Length: 2003153 (1.9M) [application/x-httpd-php]\n",
            "Saving to: ‘adult.test’\n",
            "\n",
            "adult.test          100%[===================>]   1.91M  1.95MB/s    in 1.0s    \n",
            "\n",
            "2019-12-11 13:13:11 (1.95 MB/s) - ‘adult.test’ saved [2003153/2003153]\n",
            "\n",
            "--2019-12-11 13:13:13--  https://archive.ics.uci.edu/ml/machine-learning-databases/adult/adult.data\n",
            "Resolving archive.ics.uci.edu (archive.ics.uci.edu)... 128.195.10.252\n",
            "Connecting to archive.ics.uci.edu (archive.ics.uci.edu)|128.195.10.252|:443... connected.\n",
            "HTTP request sent, awaiting response... 200 OK\n",
            "Length: 3974305 (3.8M) [application/x-httpd-php]\n",
            "Saving to: ‘adult.data’\n",
            "\n",
            "adult.data          100%[===================>]   3.79M  3.38MB/s    in 1.1s    \n",
            "\n",
            "2019-12-11 13:13:15 (3.38 MB/s) - ‘adult.data’ saved [3974305/3974305]\n",
            "\n",
            "--2019-12-11 13:13:18--  https://archive.ics.uci.edu/ml/machine-learning-databases/adult/adult.names\n",
            "Resolving archive.ics.uci.edu (archive.ics.uci.edu)... 128.195.10.252\n",
            "Connecting to archive.ics.uci.edu (archive.ics.uci.edu)|128.195.10.252|:443... connected.\n",
            "HTTP request sent, awaiting response... 200 OK\n",
            "Length: 5229 (5.1K) [application/x-httpd-php]\n",
            "Saving to: ‘adult.names’\n",
            "\n",
            "adult.names         100%[===================>]   5.11K  --.-KB/s    in 0s      \n",
            "\n",
            "2019-12-11 13:13:18 (131 MB/s) - ‘adult.names’ saved [5229/5229]\n",
            "\n",
            "| This data was extracted from the census bureau database found at\n",
            "| http://www.census.gov/ftp/pub/DES/www/welcome.html\n",
            "| Donor: Ronny Kohavi and Barry Becker,\n",
            "|        Data Mining and Visualization\n",
            "|        Silicon Graphics.\n",
            "|        e-mail: ronnyk@sgi.com for questions.\n",
            "| Split into train-test using MLC++ GenCVFiles (2/3, 1/3 random).\n",
            "| 48842 instances, mix of continuous and discrete    (train=32561, test=16281)\n",
            "| 45222 if instances with unknown values are removed (train=30162, test=15060)\n",
            "| Duplicate or conflicting instances : 6\n",
            "| Class probabilities for adult.all file\n",
            "| Probability for the label '>50K'  : 23.93% / 24.78% (without unknowns)\n",
            "| Probability for the label '<=50K' : 76.07% / 75.22% (without unknowns)\n",
            "|\n",
            "| Extraction was done by Barry Becker from the 1994 Census database.  A set of\n",
            "|   reasonably clean records was extracted using the following conditions:\n",
            "|   ((AAGE>16) && (AGI>100) && (AFNLWGT>1)&& (HRSWK>0))\n",
            "|\n",
            "| Prediction task is to determine whether a person makes over 50K\n",
            "| a year.\n",
            "|\n",
            "| First cited in:\n",
            "| @inproceedings{kohavi-nbtree,\n",
            "|    author={Ron Kohavi},\n",
            "|    title={Scaling Up the Accuracy of Naive-Bayes Classifiers: a\n",
            "|           Decision-Tree Hybrid},\n",
            "|    booktitle={Proceedings of the Second International Conference on\n",
            "|               Knowledge Discovery and Data Mining},\n",
            "|    year = 1996,\n",
            "|    pages={to appear}}\n",
            "|\n",
            "| Error Accuracy reported as follows, after removal of unknowns from\n",
            "|    train/test sets):\n",
            "|    C4.5       : 84.46+-0.30\n",
            "|    Naive-Bayes: 83.88+-0.30\n",
            "|    NBTree     : 85.90+-0.28\n",
            "|\n",
            "|\n",
            "| Following algorithms were later run with the following error rates,\n",
            "|    all after removal of unknowns and using the original train/test split.\n",
            "|    All these numbers are straight runs using MLC++ with default values.\n",
            "|\n",
            "|    Algorithm               Error\n",
            "| -- ----------------        -----\n",
            "| 1  C4.5                    15.54\n",
            "| 2  C4.5-auto               14.46\n",
            "| 3  C4.5 rules              14.94\n",
            "| 4  Voted ID3 (0.6)         15.64\n",
            "| 5  Voted ID3 (0.8)         16.47\n",
            "| 6  T2                      16.84\n",
            "| 7  1R                      19.54\n",
            "| 8  NBTree                  14.10\n",
            "| 9  CN2                     16.00\n",
            "| 10 HOODG                   14.82\n",
            "| 11 FSS Naive Bayes         14.05\n",
            "| 12 IDTM (Decision table)   14.46\n",
            "| 13 Naive-Bayes             16.12\n",
            "| 14 Nearest-neighbor (1)    21.42\n",
            "| 15 Nearest-neighbor (3)    20.35\n",
            "| 16 OC1                     15.04\n",
            "| 17 Pebls                   Crashed.  Unknown why (bounds WERE increased)\n",
            "|\n",
            "| Conversion of original data as follows:\n",
            "| 1. Discretized agrossincome into two ranges with threshold 50,000.\n",
            "| 2. Convert U.S. to US to avoid periods.\n",
            "| 3. Convert Unknown to \"?\"\n",
            "| 4. Run MLC++ GenCVFiles to generate data,test.\n",
            "|\n",
            "| Description of fnlwgt (final weight)\n",
            "|\n",
            "| The weights on the CPS files are controlled to independent estimates of the\n",
            "| civilian noninstitutional population of the US.  These are prepared monthly\n",
            "| for us by Population Division here at the Census Bureau.  We use 3 sets of\n",
            "| controls.\n",
            "|  These are:\n",
            "|          1.  A single cell estimate of the population 16+ for each state.\n",
            "|          2.  Controls for Hispanic Origin by age and sex.\n",
            "|          3.  Controls by Race, age and sex.\n",
            "|\n",
            "| We use all three sets of controls in our weighting program and \"rake\" through\n",
            "| them 6 times so that by the end we come back to all the controls we used.\n",
            "|\n",
            "| The term estimate refers to population totals derived from CPS by creating\n",
            "| \"weighted tallies\" of any specified socio-economic characteristics of the\n",
            "| population.\n",
            "|\n",
            "| People with similar demographic characteristics should have\n",
            "| similar weights.  There is one important caveat to remember\n",
            "| about this statement.  That is that since the CPS sample is\n",
            "| actually a collection of 51 state samples, each with its own\n",
            "| probability of selection, the statement only applies within\n",
            "| state.\n",
            "\n",
            "\n",
            ">50K, <=50K.\n",
            "\n",
            "age: continuous.\n",
            "workclass: Private, Self-emp-not-inc, Self-emp-inc, Federal-gov, Local-gov, State-gov, Without-pay, Never-worked.\n",
            "fnlwgt: continuous.\n",
            "education: Bachelors, Some-college, 11th, HS-grad, Prof-school, Assoc-acdm, Assoc-voc, 9th, 7th-8th, 12th, Masters, 1st-4th, 10th, Doctorate, 5th-6th, Preschool.\n",
            "education-num: continuous.\n",
            "marital-status: Married-civ-spouse, Divorced, Never-married, Separated, Widowed, Married-spouse-absent, Married-AF-spouse.\n",
            "occupation: Tech-support, Craft-repair, Other-service, Sales, Exec-managerial, Prof-specialty, Handlers-cleaners, Machine-op-inspct, Adm-clerical, Farming-fishing, Transport-moving, Priv-house-serv, Protective-serv, Armed-Forces.\n",
            "relationship: Wife, Own-child, Husband, Not-in-family, Other-relative, Unmarried.\n",
            "race: White, Asian-Pac-Islander, Amer-Indian-Eskimo, Other, Black.\n",
            "sex: Female, Male.\n",
            "capital-gain: continuous.\n",
            "capital-loss: continuous.\n",
            "hours-per-week: continuous.\n",
            "native-country: United-States, Cambodia, England, Puerto-Rico, Canada, Germany, Outlying-US(Guam-USVI-etc), India, Japan, Greece, South, China, Cuba, Iran, Honduras, Philippines, Italy, Poland, Jamaica, Vietnam, Mexico, Portugal, Ireland, France, Dominican-Republic, Laos, Ecuador, Taiwan, Haiti, Columbia, Hungary, Guatemala, Nicaragua, Scotland, Thailand, Yugoslavia, El-Salvador, Trinadad&Tobago, Peru, Hong, Holand-Netherlands.\n"
          ],
          "name": "stdout"
        }
      ]
    },
    {
      "cell_type": "markdown",
      "metadata": {
        "id": "cZWPd6QftvB3",
        "colab_type": "text"
      },
      "source": [
        "The goal is to classify high-income (here meaning >50k in 1994 USD,\n",
        "inflation destroys value), and low-income earners (<50k). There are\n",
        "lots of categorical information in the data, which we need to convert\n",
        "from strings to integers. We can use `pd.factorize` to overwrite the\n",
        "data, it will make a new integer for each string it sees. This is done\n",
        "below for the `adult`. There is also already an explicit `test` set\n",
        "which we also process:\n",
        "\n",
        "    import pandas as pd\n",
        "    import matplotlib.pyplot as plt\n",
        "    \n",
        "    names = [\"age\", \"workclass\", \"fnlwgt\", \"education\", \"education-num\",\n",
        "             \"marital-status\", \"occupation\", \"relationship\", \"race\", \"sex\",\n",
        "             \"capital-gain\", \"capital-loss\", \"hours-per-week\", \"native-country\", \"income\"]\n",
        "    adult = pd.read_csv('adult.data', header=None, names=names, index_col=False)\n",
        "    test = pd.read_csv('adult.test', header=None, names=names, index_col=False, skiprows=1)\n",
        "    print(adult[:10].to_string())\n",
        "    for column in ['workclass', 'education', 'marital-status', 'occupation', 'relationship', 'race', 'sex', 'native-country', 'income']:\n",
        "        adult[column] = pd.factorize(adult[column])[0]\n",
        "        test[column] = pd.factorize(test[column])[0]\n",
        "    \n",
        "    print()\n",
        "    print(adult[:10].to_string())\n",
        "\n",
        "The target column is the 'income' column, the last column. Lets split\n",
        "it out into numpy arrays `x` and `y`, and also a testing `tx` and\n",
        "`ty`:\n",
        "\n"
      ]
    },
    {
      "cell_type": "code",
      "metadata": {
        "id": "h4egHaT096OT",
        "colab_type": "code",
        "outputId": "21e9a219-6b38-4f6b-a5cf-e9d2a8566686",
        "colab": {
          "base_uri": "https://localhost:8080/",
          "height": 425
        }
      },
      "source": [
        "import pandas as pd\n",
        "import matplotlib.pyplot as plt\n",
        " \n",
        "names = [\"age\", \"workclass\", \"fnlwgt\", \"education\", \"education-num\",\n",
        "         \"marital-status\", \"occupation\", \"relationship\", \"race\", \"sex\",\n",
        "         \"capital-gain\", \"capital-loss\", \"hours-per-week\", \"native-country\", \"income\"]\n",
        "adult = pd.read_csv('adult.data', header=None, names=names, index_col=False)\n",
        "test = pd.read_csv('adult.test', header=None, names=names, index_col=False, skiprows=1)\n",
        "print(adult[:10].to_string())\n",
        "for column in ['workclass', 'education', 'marital-status', 'occupation', 'relationship', 'race', 'sex', 'native-country', 'income']:\n",
        "    adult[column] = pd.factorize(adult[column])[0]\n",
        "    test[column] = pd.factorize(test[column])[0]\n",
        " \n",
        "print()\n",
        "print(adult[:10].to_string())"
      ],
      "execution_count": 0,
      "outputs": [
        {
          "output_type": "stream",
          "text": [
            "   age          workclass  fnlwgt   education  education-num          marital-status          occupation    relationship    race      sex  capital-gain  capital-loss  hours-per-week  native-country  income\n",
            "0   39          State-gov   77516   Bachelors             13           Never-married        Adm-clerical   Not-in-family   White     Male          2174             0              40   United-States   <=50K\n",
            "1   50   Self-emp-not-inc   83311   Bachelors             13      Married-civ-spouse     Exec-managerial         Husband   White     Male             0             0              13   United-States   <=50K\n",
            "2   38            Private  215646     HS-grad              9                Divorced   Handlers-cleaners   Not-in-family   White     Male             0             0              40   United-States   <=50K\n",
            "3   53            Private  234721        11th              7      Married-civ-spouse   Handlers-cleaners         Husband   Black     Male             0             0              40   United-States   <=50K\n",
            "4   28            Private  338409   Bachelors             13      Married-civ-spouse      Prof-specialty            Wife   Black   Female             0             0              40            Cuba   <=50K\n",
            "5   37            Private  284582     Masters             14      Married-civ-spouse     Exec-managerial            Wife   White   Female             0             0              40   United-States   <=50K\n",
            "6   49            Private  160187         9th              5   Married-spouse-absent       Other-service   Not-in-family   Black   Female             0             0              16         Jamaica   <=50K\n",
            "7   52   Self-emp-not-inc  209642     HS-grad              9      Married-civ-spouse     Exec-managerial         Husband   White     Male             0             0              45   United-States    >50K\n",
            "8   31            Private   45781     Masters             14           Never-married      Prof-specialty   Not-in-family   White   Female         14084             0              50   United-States    >50K\n",
            "9   42            Private  159449   Bachelors             13      Married-civ-spouse     Exec-managerial         Husband   White     Male          5178             0              40   United-States    >50K\n",
            "\n",
            "   age  workclass  fnlwgt  education  education-num  marital-status  occupation  relationship  race  sex  capital-gain  capital-loss  hours-per-week  native-country  income\n",
            "0   39          0   77516          0             13               0           0             0     0    0          2174             0              40               0       0\n",
            "1   50          1   83311          0             13               1           1             1     0    0             0             0              13               0       0\n",
            "2   38          2  215646          1              9               2           2             0     0    0             0             0              40               0       0\n",
            "3   53          2  234721          2              7               1           2             1     1    0             0             0              40               0       0\n",
            "4   28          2  338409          0             13               1           3             2     1    1             0             0              40               1       0\n",
            "5   37          2  284582          3             14               1           1             2     0    1             0             0              40               0       0\n",
            "6   49          2  160187          4              5               3           4             0     1    1             0             0              16               2       0\n",
            "7   52          1  209642          1              9               1           1             1     0    0             0             0              45               0       1\n",
            "8   31          2   45781          3             14               0           3             0     0    1         14084             0              50               0       1\n",
            "9   42          2  159449          0             13               1           1             1     0    0          5178             0              40               0       1\n"
          ],
          "name": "stdout"
        }
      ]
    },
    {
      "cell_type": "code",
      "metadata": {
        "id": "ZUMc7xIJtvB4",
        "colab_type": "code",
        "outputId": "e5484a5c-5823-41a2-ee20-88f928a98788",
        "colab": {
          "base_uri": "https://localhost:8080/",
          "height": 70
        }
      },
      "source": [
        "ntrain = int(len(adult.to_numpy())*0.7)\n",
        "x, y = adult.to_numpy()[:ntrain, :-1], adult.to_numpy()[:ntrain, -1]\n",
        "tx, ty = adult.to_numpy()[ntrain:, :-1], adult.to_numpy()[ntrain:, -1]\n",
        "print(adult.shape)\n",
        "print(x.shape, y.shape)\n",
        "print(tx.shape, ty.shape)"
      ],
      "execution_count": 0,
      "outputs": [
        {
          "output_type": "stream",
          "text": [
            "(32561, 15)\n",
            "(22792, 14) (22792,)\n",
            "(9769, 14) (9769,)\n"
          ],
          "name": "stdout"
        }
      ]
    },
    {
      "cell_type": "markdown",
      "metadata": {
        "id": "o9s9sz3EtvB9",
        "colab_type": "text"
      },
      "source": [
        "Now we have the data (the hardest part), lets explore using decision\n",
        "trees to find the high-income earners.\n",
        "\n",
        "To start with, starting with a depth of 1, make a plot of the accuracy\n",
        "from `tree.score` of a basic `DecisionTreeClassifier` versus\n",
        "`max-depth`. Comparing the accuracy for testing and training, at what\n",
        "depth does the Decision tree start to overtrain? What is the best\n",
        "training accuracy?\n",
        "\n",
        "Try also making a plot of the mean-squared error versus depth, it\n",
        "makes a smoother plot. You can use the following snippet:\n",
        "`np.sum(np.max(tree.predict_proba(x) - pd.get_dummies(y).to_numpy(),\n",
        "axis=1)**2) / len(x)`\n",
        "\n"
      ]
    },
    {
      "cell_type": "code",
      "metadata": {
        "id": "bQHayzUktvB_",
        "colab_type": "code",
        "outputId": "22c0aea0-b738-4181-a597-236268262576",
        "colab": {
          "base_uri": "https://localhost:8080/",
          "height": 532
        }
      },
      "source": [
        "score_list=[]\n",
        "tscore_list=[]\n",
        "mse_list=[]\n",
        "tmse_list=[]\n",
        "for i in range(1,10):\n",
        " nw_tree = DecisionTreeClassifier(max_depth=i)\n",
        " nw_tree.fit(x,y)\n",
        " score_list.append(nw_tree.score(x,y))\n",
        " tscore_list.append(nw_tree.score(tx,ty))\n",
        " mse_list.append(np.sum(np.max(nw_tree.predict_proba(x) - pd.get_dummies(y).to_numpy(), axis=1)**2) / len(x))\n",
        " tmse_list.append(np.sum(np.max(nw_tree.predict_proba(tx) - pd.get_dummies(ty).to_numpy(), axis=1)**2) / len(tx))\n",
        "plt.plot(range(1,10),score_list,label=\"train\")\n",
        "plt.plot(range(1,10),tscore_list,label=\"test\")\n",
        "plt.legend()\n",
        "plt.figure()\n",
        "plt.plot(range(1,10),mse_list)\n",
        "plt.plot(range(1,10),tmse_list)"
      ],
      "execution_count": 0,
      "outputs": [
        {
          "output_type": "execute_result",
          "data": {
            "text/plain": [
              "[<matplotlib.lines.Line2D at 0x7fbe58ccbd30>]"
            ]
          },
          "metadata": {
            "tags": []
          },
          "execution_count": 12
        },
        {
          "output_type": "display_data",
          "data": {
            "image/png": "[encoded data removed]",
            "text/plain": [
              "<Figure size 432x288 with 1 Axes>"
            ]
          },
          "metadata": {
            "tags": []
          }
        },
        {
          "output_type": "display_data",
          "data": {
            "image/png": "[encoded data removed]",
            "text/plain": [
              "<Figure size 432x288 with 1 Axes>"
            ]
          },
          "metadata": {
            "tags": []
          }
        }
      ]
    },
    {
      "cell_type": "code",
      "metadata": {
        "id": "-12v-SVKC9Kr",
        "colab_type": "code",
        "outputId": "b542b626-cb03-4fa0-a61d-4295ddf8c2df",
        "colab": {
          "base_uri": "https://localhost:8080/",
          "height": 34
        }
      },
      "source": [
        "x.shape"
      ],
      "execution_count": 0,
      "outputs": [
        {
          "output_type": "execute_result",
          "data": {
            "text/plain": [
              "(22792, 14)"
            ]
          },
          "metadata": {
            "tags": []
          },
          "execution_count": 13
        }
      ]
    },
    {
      "cell_type": "markdown",
      "metadata": {
        "id": "fyhn3uSatvCF",
        "colab_type": "text"
      },
      "source": [
        "Now, try training a bagged ensemble of decision trees. Can you find a\n",
        "set of hyperparameters that improves the accuracy of the test set?\n",
        "\n",
        "Again, plotting max<sub>depth</sub> versus accuracy should help, try increasing\n",
        "n<sub>estimators</sub> and seeing if you see any difference. In particular, how\n",
        "does the overtraining point vary with n<sub>estimators</sub>?\n",
        "\n"
      ]
    },
    {
      "cell_type": "code",
      "metadata": {
        "id": "IiDe9jRFtvCG",
        "colab_type": "code",
        "outputId": "223986b7-6f2f-4e99-bb18-526310f4ff0a",
        "colab": {
          "base_uri": "https://localhost:8080/",
          "height": 1000
        }
      },
      "source": [
        "max_depth = 30\n",
        "n_estimators = [1, 5, 10, 15, 20, 25]\n",
        "\n",
        "for n in n_estimators:\n",
        "  score_list=[]\n",
        "  tscore_list=[]\n",
        "\n",
        "  for i in range(1, max_depth + 1):\n",
        "\n",
        "    tree = BaggingClassifier(DecisionTreeClassifier(max_depth=i), n_estimators=n)\n",
        "    tree.fit(x,y)\n",
        "    score_list.append(tree.score(x,y))\n",
        "    tscore_list.append(tree.score(tx,ty))\n",
        "\n",
        "  train = np.array(score_list)\n",
        "  test = np.array(tscore_list)\n",
        "  depth = np.arange(1, max_depth+1)\n",
        "\n",
        " \n",
        "  print('n_estimators = {}'.format(n))\n",
        "  plt.plot(depth, train)\n",
        "  plt.plot(depth, test)\n",
        "  xlab = 'MAX_DEPTH'\n",
        "  ylab = 'ACCURACY'\n",
        "\n",
        "\n",
        "  plt.xlabel(xlab)\n",
        "  plt.ylabel(ylab)\n",
        "  plt.show()"
      ],
      "execution_count": 0,
      "outputs": [
        {
          "output_type": "stream",
          "text": [
            "n_estimators = 1\n"
          ],
          "name": "stdout"
        },
        {
          "output_type": "display_data",
          "data": {
            "image/png": "[encoded data removed]",
            "text/plain": [
              "<Figure size 432x288 with 1 Axes>"
            ]
          },
          "metadata": {
            "tags": []
          }
        },
        {
          "output_type": "stream",
          "text": [
            "n_estimators = 5\n"
          ],
          "name": "stdout"
        },
        {
          "output_type": "display_data",
          "data": {
            "image/png": "[encoded data removed]",
            "text/plain": [
              "<Figure size 432x288 with 1 Axes>"
            ]
          },
          "metadata": {
            "tags": []
          }
        },
        {
          "output_type": "stream",
          "text": [
            "n_estimators = 10\n"
          ],
          "name": "stdout"
        },
        {
          "output_type": "display_data",
          "data": {
            "image/png": "[encoded data removed]",
            "text/plain": [
              "<Figure size 432x288 with 1 Axes>"
            ]
          },
          "metadata": {
            "tags": []
          }
        },
        {
          "output_type": "stream",
          "text": [
            "n_estimators = 15\n"
          ],
          "name": "stdout"
        },
        {
          "output_type": "display_data",
          "data": {
            "image/png": "[encoded data removed]",
            "text/plain": [
              "<Figure size 432x288 with 1 Axes>"
            ]
          },
          "metadata": {
            "tags": []
          }
        },
        {
          "output_type": "stream",
          "text": [
            "n_estimators = 20\n"
          ],
          "name": "stdout"
        },
        {
          "output_type": "display_data",
          "data": {
            "image/png": "[encoded data removed]",
            "text/plain": [
              "<Figure size 432x288 with 1 Axes>"
            ]
          },
          "metadata": {
            "tags": []
          }
        },
        {
          "output_type": "stream",
          "text": [
            "n_estimators = 25\n"
          ],
          "name": "stdout"
        },
        {
          "output_type": "display_data",
          "data": {
            "image/png": "[encoded data removed]",
            "text/plain": [
              "<Figure size 432x288 with 1 Axes>"
            ]
          },
          "metadata": {
            "tags": []
          }
        }
      ]
    }
  ]
}