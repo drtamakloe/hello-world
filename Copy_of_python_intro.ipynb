{
  "nbformat": 4,
  "nbformat_minor": 0,
  "metadata": {
    "kernelspec": {
      "display_name": "Python 3",
      "language": "python",
      "name": "python3"
    },
    "language_info": {
      "codemirror_mode": {
        "name": "ipython",
        "version": 3
      },
      "file_extension": ".py",
      "mimetype": "text/x-python",
      "name": "python",
      "nbconvert_exporter": "python",
      "pygments_lexer": "ipython3",
      "version": "3.7.4"
    },
    "org": null,
    "colab": {
      "name": "Copy of python-intro.ipynb",
      "provenance": [],
      "include_colab_link": true
    }
  },
  "cells": [
    {
      "cell_type": "markdown",
      "metadata": {
        "id": "view-in-github",
        "colab_type": "text"
      },
      "source": [
        "<a href=\"https://colab.research.google.com/github/drtamakloe/hello-world/blob/master/Copy_of_python_intro.ipynb\" target=\"_parent\"><img src=\"https://colab.research.google.com/assets/colab-badge.svg\" alt=\"Open In Colab\"/></a>"
      ]
    },
    {
      "cell_type": "markdown",
      "metadata": {
        "id": "Hf6PRr3JYxFI",
        "colab_type": "text"
      },
      "source": [
        "## Housekeeping\n",
        "\n"
      ]
    },
    {
      "cell_type": "markdown",
      "metadata": {
        "id": "oMm8-hKpYxFN",
        "colab_type": "text"
      },
      "source": [
        "-   Today, we'll review python, but some housekeeping first\n",
        "-   Further issues with Thursdays, thanks to those who filled out doodle polls\n",
        "    -   Oct. 3 will move to Mon., Sept. 30, 1-4 pm\n",
        "    -   Oct. 26 will move to Mon., Oct 21 1-4 pm\n",
        "    -   If you can't make it, try to do the exercises at home, I won't\n",
        "        mark you absent (but will mark you down if you don't complete the\n",
        "        exercises!)\n",
        "-   Today's class will have tasks interleaved with the lecture\n",
        "    -   Find the classroom link at  [https://git.io/python-ml2019](https://git.io/python-ml2019)\n",
        "    -   Complete all the tasks by the end of class and **remember to upload to github**\n",
        "    -   Ask if you need help\n",
        "    -   As usual, there will be time at the end, you don't have to do them\n",
        "        as we go\n",
        "    -   If you're familiar with python, go ahead and finish them all and\n",
        "        have an early mark\n",
        "    -   They mostly concentrate on fixing errors that will commonly occur\n",
        "-   Remember to log out!\n",
        "\n"
      ]
    },
    {
      "cell_type": "markdown",
      "metadata": {
        "id": "43wCVP6GYxFP",
        "colab_type": "text"
      },
      "source": [
        "## What is programming?\n",
        "\n"
      ]
    },
    {
      "cell_type": "markdown",
      "metadata": {
        "id": "3fqNXssqYxFQ",
        "colab_type": "text"
      },
      "source": [
        "-   A computer is (von Neumann Architecture) a CPU attached to memory\n",
        "-   Memory can store *bits* 1s and 0s, and the CPU can act on these bits\n",
        "    by running *instructions*\n",
        "    -   So, there might be an instruction to take two numbers from memory,\n",
        "        add them, and store the result\n",
        "    -   And in particular, the instructions themselves are bits in memory!\n",
        "-   This is hugely simplified, particularly for modern machines\n",
        "    -   Some search terms for the interested: cache levels, out-of-order\n",
        "        instruction pipelines, SIMD, GPU, etc.\n",
        "-   The goal of the programmer is to arrange a sequence of instructions\n",
        "    to perform some manipulation of the data from an input state to a\n",
        "    desired output state\n",
        "    -   In machine learning, this might be to take a labelled data set and\n",
        "        process it into a new program which can take new data and output\n",
        "        its most likely label\n",
        "        -   Programs making programs, recursion is an important concept in\n",
        "            computing\n",
        "\n"
      ]
    },
    {
      "cell_type": "markdown",
      "metadata": {
        "id": "gaqF6syoYxFT",
        "colab_type": "text"
      },
      "source": [
        "## Interpreters\n",
        "\n"
      ]
    },
    {
      "cell_type": "markdown",
      "metadata": {
        "id": "GbErIe8uYxFX",
        "colab_type": "text"
      },
      "source": [
        "-   Programmers typically write code in *high-level languages*, not\n",
        "    machine language\n",
        "-   Two possiblities for how to turn this into something the computer can run:\n",
        "    -   A *Compiled programming language* will take the code the\n",
        "        programmer write, and output machine code, which can be run later\n",
        "    -   An *interpreted programming language* reads the code and processes\n",
        "        it on the fly\n",
        "        -   That is, there is a program which will read and run code\n",
        "        -   The program which runs the code is called an *interpreter*, and\n",
        "            usually has some idea of a pretend machine its running on, a\n",
        "            *virtual machine*\n",
        "-   Python is an interpreted programming language\n",
        "-   That means that when we run code we need to send it to the python interpreter\n",
        "-   We can do that by first writing the code and sending the whole thing\n",
        "    to the interpreter, or by starting the interpreter and sending\n",
        "    instructions one at a time in an interactive fashion\n",
        "    -   The interactive environment is also called a *repl* after the\n",
        "        steps the interpreter takes when it runs (read, evaluate, print,\n",
        "        loop)\n",
        "\n"
      ]
    },
    {
      "cell_type": "markdown",
      "metadata": {
        "id": "ugt9MWksYxFY",
        "colab_type": "text"
      },
      "source": [
        "## Data types\n",
        "\n"
      ]
    },
    {
      "cell_type": "markdown",
      "metadata": {
        "id": "bW2j2fSdYxFb",
        "colab_type": "text"
      },
      "source": [
        "-   We need to represent objects in the computer, which remember, only\n",
        "    knows abouts bits: 0 or 1\n",
        "-   To do this, we assign meaning to particular bit patterns\n",
        "    -   That is, we indicate (somehow), that some bit pattern should be\n",
        "        read in a certain way\n",
        "    -   The computer has no knowledge of this, it just processes the\n",
        "        instructions we tell it to, blind to any meaning we give it\n",
        "        -   **This is important, the computer doesn't understand meaning**\n",
        "    -   *The computer will blindly process whatever we tell it to, it doesn't understand what we are trying to make it do*\n",
        "        -   A big part of programming is figuring out why the computer is\n",
        "            doing something stupid. Usually, its because you told it to do a\n",
        "            stupid thing without realizing!\n",
        "-   In our case, the python interpreter is responsible for keeping track\n",
        "    of the meaning of the underlying bits\n",
        "-   It assigns a *type* to each *object* that it knows about\n",
        "    -   An *object* is a collection of bits that should be interpreted as a group\n",
        "    -   In python, each object has a set of bits that gives its *type*,\n",
        "        which tells the interpreter how to treat this set of bits\n",
        "\n"
      ]
    },
    {
      "cell_type": "markdown",
      "metadata": {
        "id": "6yx_JKSMYxFc",
        "colab_type": "text"
      },
      "source": [
        "## Comments and Errors\n",
        "\n"
      ]
    },
    {
      "cell_type": "markdown",
      "metadata": {
        "id": "E5wSZilRYxFe",
        "colab_type": "text"
      },
      "source": [
        "-   Before we talk about python's types, two points\n",
        "\n",
        "    # this is a comment, everything from '#' to the end of the\n",
        "    # line is ignored by the interpreter\n",
        "\n",
        "-   use comments to make the intent of your code explicit\n",
        "-   If you make a mistake and the interpreter is unable to continue evaluating, it will *through* or `raise` an *exception*\n",
        "-   The interpreter will print out the exception, which should contain a helpful message about what went wrong\n",
        "-   It will also print a *stack trace* **showing** you where it occurred\n",
        "-   Of course, the real problem could be on a different line that meant the line it stopped on couldn't work the way intended\n",
        "-   Get used to reading error messages and figuring out errors, its one of the most important skills in programming!\n",
        "-   The exercises (except at the end) are mostly about reading and fixing such messages\n",
        "\n"
      ]
    },
    {
      "cell_type": "markdown",
      "metadata": {
        "id": "wVv41lFDYxFi",
        "colab_type": "text"
      },
      "source": [
        "## Basic Data Types in Python\n",
        "\n"
      ]
    },
    {
      "cell_type": "markdown",
      "metadata": {
        "id": "zjlu5_WvYxFk",
        "colab_type": "text"
      },
      "source": [
        "-   Most of the time, you can ignore the fact that you're operating on\n",
        "    bits, and think in terms of high-level python objects\n",
        "    -   The interpreter provides a layer of *abstraction*\n",
        "-   In python, the basic data types that can be used are:\n",
        "    -   Integers: -1, 0, 1, 2, 3, 4, etc\n",
        "    -   Floats: 1.2, 3e-2\n",
        "        -   Floating point number: this means we store the first ~ 15\n",
        "            significant digits plus the exponent to put the decimal point\n",
        "            correctly\n",
        "        -   Be careful with these!\n",
        "\n"
      ]
    },
    {
      "cell_type": "code",
      "metadata": {
        "id": "HS_lxLm-YxFl",
        "colab_type": "code",
        "outputId": "940d996c-5f65-447c-9411-122ef420258c",
        "colab": {
          "base_uri": "https://localhost:8080/",
          "height": 34
        }
      },
      "source": [
        "0.1 + 0.2 == 0.3\n"
      ],
      "execution_count": 0,
      "outputs": [
        {
          "output_type": "execute_result",
          "data": {
            "text/plain": [
              "False"
            ]
          },
          "metadata": {
            "tags": []
          },
          "execution_count": 1
        }
      ]
    },
    {
      "cell_type": "markdown",
      "metadata": {
        "id": "Yua9A9cRYxFs",
        "colab_type": "text"
      },
      "source": [
        "-   Strings: `\"Hello, world\"`, \n",
        "    `'This is a string'`, \n",
        "    `'We can have \"double quotes\" inside but need to guard single quotes\\''`\n",
        "    -   We can also have multi-line strings with triple quotes:\n",
        "\n"
      ]
    },
    {
      "cell_type": "code",
      "metadata": {
        "id": "AzAOGhNkYxFs",
        "colab_type": "code",
        "colab": {}
      },
      "source": [
        "\"\"\" This is a \n",
        "multline\n",
        "\n",
        "string\n",
        "\"\"\""
      ],
      "execution_count": 0,
      "outputs": []
    },
    {
      "cell_type": "markdown",
      "metadata": {
        "id": "Vwywy3Q0YxFx",
        "colab_type": "text"
      },
      "source": [
        "-   Boolean: `True` and `False`\n",
        "\n"
      ]
    },
    {
      "cell_type": "markdown",
      "metadata": {
        "id": "WLesQScnYxFy",
        "colab_type": "text"
      },
      "source": [
        "## Numbers\n",
        "\n"
      ]
    },
    {
      "cell_type": "markdown",
      "metadata": {
        "id": "fOww8lt8YxFz",
        "colab_type": "text"
      },
      "source": [
        "-   You can do the usual things with the usual math operators, obeying the normal ordering\n",
        "    -   Nb. there are two types of division: `//` for integer division (ignore remainder), and `/` for floating point division\n",
        "\n"
      ]
    },
    {
      "cell_type": "code",
      "metadata": {
        "id": "n0q1sh5-YxF0",
        "colab_type": "code",
        "colab": {}
      },
      "source": [
        "1+1*2, 2//3**2, 1+1*2/3**2, (1+1)*2/3**2, 3%2, 2 < 3, 2 == 3, etc."
      ],
      "execution_count": 0,
      "outputs": []
    },
    {
      "cell_type": "markdown",
      "metadata": {
        "id": "GQlNx5C8YxF5",
        "colab_type": "text"
      },
      "source": [
        "-   There is also a complex number type: `1+3j`, uses engineering notation\n",
        "-   Integers get *promoted* to floats if one of the operands is a float, similarly, ints and floats get promoted to complex\n",
        "\n"
      ]
    },
    {
      "cell_type": "code",
      "metadata": {
        "id": "nPKXQDPbYxF7",
        "colab_type": "code",
        "colab": {}
      },
      "source": [
        "1+2==3, but, 1+2.0==3.0"
      ],
      "execution_count": 0,
      "outputs": []
    },
    {
      "cell_type": "markdown",
      "metadata": {
        "id": "beuoAhyJYxGA",
        "colab_type": "text"
      },
      "source": [
        "-   For more, you can also look in the `math` module (we'll talk about modules later)\n",
        "\n"
      ]
    },
    {
      "cell_type": "markdown",
      "metadata": {
        "id": "4RytyTICYxGC",
        "colab_type": "text"
      },
      "source": [
        "## Strings\n",
        "\n"
      ]
    },
    {
      "cell_type": "markdown",
      "metadata": {
        "id": "SNpbp-B8YxGD",
        "colab_type": "text"
      },
      "source": [
        "-   Strings (type `str`) are containers for textual data\n",
        "-   Make them by writing text between quotes, single `' '`,\n",
        "    double `\" \"`\n",
        "    or triple `\"\"\" \"\"\"`\n",
        "    there is no difference except in what you must escape\n",
        "-   You can join them with `+`\n",
        "\n"
      ]
    },
    {
      "cell_type": "code",
      "metadata": {
        "id": "z7KFuaWlYxGF",
        "colab_type": "code",
        "colab": {}
      },
      "source": [
        "\"Hello, \\\"\" + \"world\\\"\\n\" # must escape \", \\n means newline"
      ],
      "execution_count": 0,
      "outputs": []
    },
    {
      "cell_type": "markdown",
      "metadata": {
        "id": "dnAauWWCYxGK",
        "colab_type": "text"
      },
      "source": [
        "-   You can get the length (no. of characters) with `len`\n",
        "\n"
      ]
    },
    {
      "cell_type": "code",
      "metadata": {
        "id": "SDfBbkfSYxGM",
        "colab_type": "code",
        "colab": {}
      },
      "source": [
        "len(\"Hello, world\")"
      ],
      "execution_count": 0,
      "outputs": []
    },
    {
      "cell_type": "markdown",
      "metadata": {
        "id": "7B-Z5DPfYxGR",
        "colab_type": "text"
      },
      "source": [
        "-   You can access a single character at position i using square brackets with i in between\n",
        "\n"
      ]
    },
    {
      "cell_type": "code",
      "metadata": {
        "id": "qrDFonSBYxGS",
        "colab_type": "code",
        "colab": {}
      },
      "source": [
        "\"Hello world\"[0]==\"H\""
      ],
      "execution_count": 0,
      "outputs": []
    },
    {
      "cell_type": "markdown",
      "metadata": {
        "id": "Y8fCl-PiYxGX",
        "colab_type": "text"
      },
      "source": [
        "-   Convert other types with `str`:\n",
        "\n",
        "    str(1)==\"1\"\n",
        "\n"
      ]
    },
    {
      "cell_type": "markdown",
      "metadata": {
        "id": "_GsDBqupYxGY",
        "colab_type": "text"
      },
      "source": [
        "### Exercises:\n",
        "\n"
      ]
    },
    {
      "cell_type": "markdown",
      "metadata": {
        "id": "3RMA-bgBYxGZ",
        "colab_type": "text"
      },
      "source": [
        "Fix these strings up, so the interpreter doesn't give an error and the output is what we want:\n",
        "\n"
      ]
    },
    {
      "cell_type": "code",
      "metadata": {
        "id": "PKLTtyd8YxGa",
        "colab_type": "code",
        "outputId": "b5d7d0aa-4ef2-4f7b-eb91-c96c26dc6d73",
        "colab": {
          "base_uri": "https://localhost:8080/",
          "height": 34
        }
      },
      "source": [
        "\"Hello, world\""
      ],
      "execution_count": 0,
      "outputs": [
        {
          "output_type": "execute_result",
          "data": {
            "text/plain": [
              "'Hello, world'"
            ]
          },
          "metadata": {
            "tags": []
          },
          "execution_count": 19
        }
      ]
    },
    {
      "cell_type": "code",
      "metadata": {
        "id": "clrNX2CxYxGg",
        "colab_type": "code",
        "outputId": "59fcfd08-a1e3-4663-db37-2340edc06604",
        "colab": {
          "base_uri": "https://localhost:8080/",
          "height": 34
        }
      },
      "source": [
        "\"Hello, isn't it a great day today?\""
      ],
      "execution_count": 0,
      "outputs": [
        {
          "output_type": "execute_result",
          "data": {
            "text/plain": [
              "\"Hello, isn't it a great day today?\""
            ]
          },
          "metadata": {
            "tags": []
          },
          "execution_count": 13
        }
      ]
    },
    {
      "cell_type": "code",
      "metadata": {
        "id": "BLNNhzZ6YxGj",
        "colab_type": "code",
        "outputId": "c8f2da8c-af86-4305-c5e5-22575edf5be6",
        "colab": {
          "base_uri": "https://localhost:8080/",
          "height": 34
        }
      },
      "source": [
        "\"That guy said, \\\"That guy said, 'Hey'\\\"\"\n"
      ],
      "execution_count": 0,
      "outputs": [
        {
          "output_type": "execute_result",
          "data": {
            "text/plain": [
              "'That guy said, \"That guy said, \\'Hey\\'\"'"
            ]
          },
          "metadata": {
            "tags": []
          },
          "execution_count": 20
        }
      ]
    },
    {
      "cell_type": "code",
      "metadata": {
        "id": "HTL3SSM8YxGn",
        "colab_type": "code",
        "outputId": "b99a5aec-4a9e-4ade-9089-084ee2062bff",
        "colab": {
          "base_uri": "https://localhost:8080/",
          "height": 34
        }
      },
      "source": [
        "\"\"\"There seems to be\n",
        "something\n",
        ".\n",
        ".\n",
        ".\n",
        "wrong here\n",
        "\"\"\""
      ],
      "execution_count": 0,
      "outputs": [
        {
          "output_type": "execute_result",
          "data": {
            "text/plain": [
              "'There seems to be\\nsomething\\n.\\n.\\n.\\nwrong here\\n'"
            ]
          },
          "metadata": {
            "tags": []
          },
          "execution_count": 15
        }
      ]
    },
    {
      "cell_type": "markdown",
      "metadata": {
        "id": "qAE5FHCAYxGq",
        "colab_type": "text"
      },
      "source": [
        "There are two possibilities for the next one, what are both of them?\n",
        "\n"
      ]
    },
    {
      "cell_type": "code",
      "metadata": {
        "id": "gxvn4EB5YxGr",
        "colab_type": "code",
        "outputId": "72e5630f-99f5-47dc-9053-103dbd0b933c",
        "colab": {
          "base_uri": "https://localhost:8080/",
          "height": 34
        }
      },
      "source": [
        "\"1\" + \"2\"\n",
        "\"1+2\""
      ],
      "execution_count": 0,
      "outputs": [
        {
          "output_type": "execute_result",
          "data": {
            "text/plain": [
              "'1+2'"
            ]
          },
          "metadata": {
            "tags": []
          },
          "execution_count": 24
        }
      ]
    },
    {
      "cell_type": "code",
      "metadata": {
        "id": "l3RHtLlvf-27",
        "colab_type": "code",
        "outputId": "8dea87a8-9c85-40e2-eed6-eb202d3f3ff6",
        "colab": {
          "base_uri": "https://localhost:8080/",
          "height": 34
        }
      },
      "source": [
        "\"1\"+\"2\""
      ],
      "execution_count": 0,
      "outputs": [
        {
          "output_type": "execute_result",
          "data": {
            "text/plain": [
              "'12'"
            ]
          },
          "metadata": {
            "tags": []
          },
          "execution_count": 25
        }
      ]
    },
    {
      "cell_type": "markdown",
      "metadata": {
        "id": "tpKuw_qMYxGv",
        "colab_type": "text"
      },
      "source": [
        "Before evaluating, how many \\\\ will print?\n",
        "\n"
      ]
    },
    {
      "cell_type": "code",
      "metadata": {
        "id": "a2NZ_A1CYxGx",
        "colab_type": "code",
        "outputId": "ce47ff92-1423-42cb-a681-40ea7d93b6d8",
        "colab": {
          "base_uri": "https://localhost:8080/",
          "height": 34
        }
      },
      "source": [
        "print(\"\\\\\\\\\\\\\")"
      ],
      "execution_count": 0,
      "outputs": [
        {
          "output_type": "stream",
          "text": [
            "\\\\\\\n"
          ],
          "name": "stdout"
        }
      ]
    },
    {
      "cell_type": "markdown",
      "metadata": {
        "id": "sk-RG5OOYxG0",
        "colab_type": "text"
      },
      "source": [
        "## Boolean\n",
        "\n"
      ]
    },
    {
      "cell_type": "markdown",
      "metadata": {
        "id": "L6Au6PvlYxG1",
        "colab_type": "text"
      },
      "source": [
        "-   A Boolean represent `True` and `False`\n",
        "-   We will use it implicitly when eg checking conditions (later)\n",
        "-   Can be returned from e.g. comparison functions\n",
        "\n"
      ]
    },
    {
      "cell_type": "code",
      "metadata": {
        "id": "Lr6MUF8jYxG2",
        "colab_type": "code",
        "colab": {}
      },
      "source": [
        "1 == 3  # False\n",
        "1 != 3 # True, '!=' stands for not equals\n",
        "2 < 4  # True\n",
        "\"a\" in \"abc\"  # True"
      ],
      "execution_count": 0,
      "outputs": []
    },
    {
      "cell_type": "markdown",
      "metadata": {
        "id": "EVniT2qVYxG6",
        "colab_type": "text"
      },
      "source": [
        "-   Many other values can be \"coerced\" to the boolean type\n",
        "    -   This means, that if we expected a bool but got an int, it will automatically convert the int to a bool\n",
        "    -   0 converts to `False`, other numbers convert to `True`\n",
        "    -   The empty string `\"\"` is False, other strings are `True`\n",
        "    -   The empty list `[]` is False, other lists are `True`\n",
        "    -   You can use `bool(object)` to check what `object` converts to\n",
        "\n"
      ]
    },
    {
      "cell_type": "markdown",
      "metadata": {
        "id": "FldAl_ImYxG8",
        "colab_type": "text"
      },
      "source": [
        "## Variables\n",
        "\n"
      ]
    },
    {
      "cell_type": "markdown",
      "metadata": {
        "id": "6C5FclftYxG8",
        "colab_type": "text"
      },
      "source": [
        "-   Objects can be assigned a name and used as if it was the object\n",
        "    -   Syntax: is <name> `=` <object>\n",
        "    -   We say we assign the object to the name,\n",
        "    -   Also why we use two = for equality\n",
        "-   Names should start with a letter or underscore, and then can contain letters, numbers and underscores\n",
        "\n"
      ]
    },
    {
      "cell_type": "code",
      "metadata": {
        "id": "o7QghC_FYxG9",
        "colab_type": "code",
        "colab": {}
      },
      "source": [
        "a = 3\n",
        "a * 2 == 6  # 3 * 2"
      ],
      "execution_count": 0,
      "outputs": []
    },
    {
      "cell_type": "markdown",
      "metadata": {
        "id": "5kUm7Ae2YxG_",
        "colab_type": "text"
      },
      "source": [
        "-   Variables can be assigned new objects at any time, its just a label for the object, not the object itself (technically, its a pointer to the object)\n",
        "\n"
      ]
    },
    {
      "cell_type": "code",
      "metadata": {
        "id": "I8IQYLxAYxHA",
        "colab_type": "code",
        "colab": {}
      },
      "source": [
        "a = 4\n",
        "print(a)\n",
        "a = 5\n",
        "print(a)\n",
        "a = a*2 # We can use the previous value of the variable on the right-hand side\n",
        "print(a)"
      ],
      "execution_count": 0,
      "outputs": []
    },
    {
      "cell_type": "markdown",
      "metadata": {
        "id": "7cuFM36iYxHC",
        "colab_type": "text"
      },
      "source": [
        "### Exercises:\n",
        "\n"
      ]
    },
    {
      "cell_type": "markdown",
      "metadata": {
        "id": "WEDAeXmoYxHE",
        "colab_type": "text"
      },
      "source": [
        "There are some issues here, can you fix them?\n",
        "\n"
      ]
    },
    {
      "cell_type": "code",
      "metadata": {
        "id": "NOyriwx2YxHE",
        "colab_type": "code",
        "colab": {}
      },
      "source": [
        "the_number = 3"
      ],
      "execution_count": 0,
      "outputs": []
    },
    {
      "cell_type": "code",
      "metadata": {
        "id": "hfZA_Df7YxHK",
        "colab_type": "code",
        "outputId": "ad525d69-1978-4231-f374-a09198b2f1b9",
        "colab": {
          "base_uri": "https://localhost:8080/",
          "height": 34
        }
      },
      "source": [
        "hello =  \"Hello, \"\n",
        "\"helio\" + \"world\""
      ],
      "execution_count": 0,
      "outputs": [
        {
          "output_type": "execute_result",
          "data": {
            "text/plain": [
              "'helioworld'"
            ]
          },
          "metadata": {
            "tags": []
          },
          "execution_count": 30
        }
      ]
    },
    {
      "cell_type": "code",
      "metadata": {
        "id": "luqWYuwGYxHM",
        "colab_type": "code",
        "colab": {}
      },
      "source": [
        "b = 4\n",
        "b = b*2"
      ],
      "execution_count": 0,
      "outputs": []
    },
    {
      "cell_type": "markdown",
      "metadata": {
        "id": "fZWTdAqIYxHP",
        "colab_type": "text"
      },
      "source": [
        "## Lists\n",
        "\n"
      ]
    },
    {
      "cell_type": "markdown",
      "metadata": {
        "id": "Eb_vN1jOYxHQ",
        "colab_type": "text"
      },
      "source": [
        "-   We can also have composite data types, that is, a type that holds other types\n",
        "-   A list holds several objects in a single data structure\n",
        "    -   So, the empty list (list with no objects) is `[]`\n",
        "-   Use square brackets with objects separated by lists\n",
        "\n"
      ]
    },
    {
      "cell_type": "code",
      "metadata": {
        "id": "kop9i31HYxHQ",
        "colab_type": "code",
        "colab": {}
      },
      "source": [
        "lst = [1, 2, 3, 4]\n",
        "print(\"Length {}\".format(len(lst))) # len Gives the length of list lst\n",
        "print(lst[0])"
      ],
      "execution_count": 0,
      "outputs": []
    },
    {
      "cell_type": "markdown",
      "metadata": {
        "id": "XQT43GeqYxHW",
        "colab_type": "text"
      },
      "source": [
        "-   Individual objects can be accessed using square brackets and an\n",
        "    *index*, starting at 0, and going to `len(list)-1`\n",
        "-   You can grow a list with `append`, it will grow in place\n",
        "\n"
      ]
    },
    {
      "cell_type": "code",
      "metadata": {
        "id": "B8kXjeflYxHW",
        "colab_type": "code",
        "colab": {}
      },
      "source": [
        "lst = [1, 2, 3, 4]\n",
        "lst.append(5) # Now lst is [1, 2, 3, 4, 5]\n",
        "lst[3] = 2 # Can reassign, now lst is [1, 2, 3, 3, 5]\n",
        "lst[4] # would fail before the append statement"
      ],
      "execution_count": 0,
      "outputs": []
    },
    {
      "cell_type": "markdown",
      "metadata": {
        "id": "U7zahagJYxHZ",
        "colab_type": "text"
      },
      "source": [
        "-   You can `+` lists together to *concatenate* them\n",
        "\n"
      ]
    },
    {
      "cell_type": "code",
      "metadata": {
        "id": "CXhGLna4YxHa",
        "colab_type": "code",
        "colab": {}
      },
      "source": [
        "lst1 = [1, 2, 3]\n",
        "lst2 = [4, 5, 6]\n",
        "lst1+lst2"
      ],
      "execution_count": 0,
      "outputs": []
    },
    {
      "cell_type": "markdown",
      "metadata": {
        "id": "llZKJ4tFYxHc",
        "colab_type": "text"
      },
      "source": [
        "-   You can check if an element appears in a list using `in`, similar to strings\n",
        "\n"
      ]
    },
    {
      "cell_type": "code",
      "metadata": {
        "id": "ETNTT7-uYxHc",
        "colab_type": "code",
        "colab": {}
      },
      "source": [
        "1 in [1, 2, 3] # True\n",
        "4 in [1, 2, 3] # False"
      ],
      "execution_count": 0,
      "outputs": []
    },
    {
      "cell_type": "markdown",
      "metadata": {
        "id": "HLu5eLP0YxHe",
        "colab_type": "text"
      },
      "source": [
        "### Exercises:\n",
        "\n"
      ]
    },
    {
      "cell_type": "markdown",
      "metadata": {
        "id": "RT4viIWZYxHf",
        "colab_type": "text"
      },
      "source": [
        "Try changing this to 1, then 2, then 3. What happens at index 4?\n",
        "\n"
      ]
    },
    {
      "cell_type": "code",
      "metadata": {
        "id": "Hqro-6KwYxHg",
        "colab_type": "code",
        "outputId": "db1f99cd-a1be-4c4b-9b4e-0bea41c2c389",
        "colab": {
          "base_uri": "https://localhost:8080/",
          "height": 86
        }
      },
      "source": [
        "\n",
        "lst=[1,2,3,4]\n",
        "print(lst[0])\n",
        "print(lst[1])\n",
        "print(lst[2])\n",
        "print(lst[3])\n"
      ],
      "execution_count": 0,
      "outputs": [
        {
          "output_type": "stream",
          "text": [
            "1\n",
            "2\n",
            "3\n",
            "4\n"
          ],
          "name": "stdout"
        }
      ]
    },
    {
      "cell_type": "markdown",
      "metadata": {
        "id": "2ZrtLO9xYxHi",
        "colab_type": "text"
      },
      "source": [
        "These cells have problems. Try to fix the problems while keeping the intended meaning.\n",
        "\n"
      ]
    },
    {
      "cell_type": "code",
      "metadata": {
        "id": "R78SkOarYxHi",
        "colab_type": "code",
        "outputId": "d9eecfee-fc03-4440-f3a1-ae56c7999227",
        "colab": {
          "base_uri": "https://localhost:8080/",
          "height": 34
        }
      },
      "source": [
        "lst = [1, 2, 3, 4]\n",
        "print(lst)"
      ],
      "execution_count": 0,
      "outputs": [
        {
          "output_type": "stream",
          "text": [
            "[1, 2, 3, 4]\n"
          ],
          "name": "stdout"
        }
      ]
    },
    {
      "cell_type": "code",
      "metadata": {
        "id": "vRJ4eJs2YxHk",
        "colab_type": "code",
        "outputId": "50508dde-2cb8-49af-94a0-552329bb0d0e",
        "colab": {
          "base_uri": "https://localhost:8080/",
          "height": 34
        }
      },
      "source": [
        "lst = [1, 2, 3]\n",
        "print(lst)"
      ],
      "execution_count": 0,
      "outputs": [
        {
          "output_type": "stream",
          "text": [
            "[1, 2, 3]\n"
          ],
          "name": "stdout"
        }
      ]
    },
    {
      "cell_type": "markdown",
      "metadata": {
        "id": "mq0sq2psYxHm",
        "colab_type": "text"
      },
      "source": [
        "**Important point about lists**\n",
        "Lists are mutable, variables are pointers. Before evaluating, think about what you expect lst1 and lst2 to be\n",
        "\n"
      ]
    },
    {
      "cell_type": "code",
      "metadata": {
        "id": "W2u2MViJYxHn",
        "colab_type": "code",
        "outputId": "48f293ff-3f1f-44b9-9dd5-1baf2105260e",
        "colab": {
          "base_uri": "https://localhost:8080/",
          "height": 34
        }
      },
      "source": [
        "lst1 = [1,2,3,4]\n",
        "lst2 = lst1\n",
        "lst2.append(5)\n",
        "# what is lst1 here? lst2? is it what you expect?\n",
        "lst1, lst2"
      ],
      "execution_count": 0,
      "outputs": [
        {
          "output_type": "execute_result",
          "data": {
            "text/plain": [
              "([1, 2, 3, 4, 5], [1, 2, 3, 4, 5])"
            ]
          },
          "metadata": {
            "tags": []
          },
          "execution_count": 47
        }
      ]
    },
    {
      "cell_type": "markdown",
      "metadata": {
        "id": "SF4L50b9YxHq",
        "colab_type": "text"
      },
      "source": [
        "## Tuple\n",
        "\n"
      ]
    },
    {
      "cell_type": "markdown",
      "metadata": {
        "id": "JQm406WGYxHq",
        "colab_type": "text"
      },
      "source": [
        "-   Tuples are like lists that you can't grow\n",
        "    -   Lists are *mutable*, tuples are *immutable*, they can't be changed once created\n",
        "    -   You can make new ones, though, of course\n",
        "-   They are created with regular parenthese `(,)`, and can be indexed like lists\n",
        "    -   `(,)` is the empty tuple and `(1,)` is a one element tuple, the\n",
        "        `,` is necessary to differentiate from parentheses used in\n",
        "        grouping\n",
        "\n"
      ]
    },
    {
      "cell_type": "code",
      "metadata": {
        "id": "VeP8ZhCxYxHq",
        "colab_type": "code",
        "outputId": "5178c4e6-171e-4460-a376-ab2bb7023cb9",
        "colab": {
          "base_uri": "https://localhost:8080/",
          "height": 34
        }
      },
      "source": [
        "t = (1, 2, 3)\n",
        "t[0]\n"
      ],
      "execution_count": 0,
      "outputs": [
        {
          "output_type": "execute_result",
          "data": {
            "text/plain": [
              "1"
            ]
          },
          "metadata": {
            "tags": []
          },
          "execution_count": 2
        }
      ]
    },
    {
      "cell_type": "markdown",
      "metadata": {
        "id": "YxKufkLbYxHs",
        "colab_type": "text"
      },
      "source": [
        "### Exercises:\n",
        "\n"
      ]
    },
    {
      "cell_type": "code",
      "metadata": {
        "id": "-lwBsuOPYxHt",
        "colab_type": "code",
        "outputId": "e84321f5-2779-4f9e-edbf-2b92e368047d",
        "colab": {
          "base_uri": "https://localhost:8080/",
          "height": 52
        }
      },
      "source": [
        "a = [1, 2, 3]\n",
        "a.append(4)\n",
        "print(a)\n",
        "\n",
        "a = (1,2,3)\n",
        "a = a +(4,)\n",
        "a"
      ],
      "execution_count": 0,
      "outputs": [
        {
          "output_type": "stream",
          "text": [
            "[1, 2, 3, 4]\n"
          ],
          "name": "stdout"
        },
        {
          "output_type": "execute_result",
          "data": {
            "text/plain": [
              "(1, 2, 3, 4)"
            ]
          },
          "metadata": {
            "tags": []
          },
          "execution_count": 48
        }
      ]
    },
    {
      "cell_type": "markdown",
      "metadata": {
        "id": "okvgqdqgYxHw",
        "colab_type": "text"
      },
      "source": [
        "## Dictionaries\n",
        "\n"
      ]
    },
    {
      "cell_type": "markdown",
      "metadata": {
        "id": "60hatoCJYxHw",
        "colab_type": "text"
      },
      "source": [
        "-   Dictionaries are like lists where you can choose the index\n",
        "-   With dictionary `d` and object `o` can assign or retrieve `d[o]`\n",
        "    -   We call `o` the *key* and `d[o]` the *value*\n",
        "-   Created with curly braces, like `{<key> : <value>, ...}`\n",
        "\n"
      ]
    },
    {
      "cell_type": "code",
      "metadata": {
        "id": "6tmXwleNYxHz",
        "colab_type": "code",
        "colab": {}
      },
      "source": [
        "d = {1 : \"b\", \"a\" : 2, True : [1, 2, 3]}"
      ],
      "execution_count": 0,
      "outputs": []
    },
    {
      "cell_type": "markdown",
      "metadata": {
        "id": "ryTmyqtsYxH2",
        "colab_type": "text"
      },
      "source": [
        "-   Commonly, you use it with strings as keys\n",
        "\n"
      ]
    },
    {
      "cell_type": "code",
      "metadata": {
        "id": "wuaLV8xKYxH3",
        "colab_type": "code",
        "outputId": "1ed1e3b7-efc5-4cc6-8e73-1a76717b45af",
        "colab": {
          "base_uri": "https://localhost:8080/",
          "height": 34
        }
      },
      "source": [
        "difficulty = {\"Korean\" : \"very hard\", \"English\" : \"easy!\"}\n",
        "\n",
        "language = \"Korean\"\n",
        "print(\"{} is {}\".format(language, difficulty[language]))"
      ],
      "execution_count": 0,
      "outputs": [
        {
          "output_type": "stream",
          "text": [
            "Korean is very hard\n"
          ],
          "name": "stdout"
        }
      ]
    },
    {
      "cell_type": "markdown",
      "metadata": {
        "id": "y6CmJjlaYxH5",
        "colab_type": "text"
      },
      "source": [
        "### Exercises:\n",
        "\n"
      ]
    },
    {
      "cell_type": "markdown",
      "metadata": {
        "id": "xcCsvwP5YxH6",
        "colab_type": "text"
      },
      "source": [
        "Any ideas what this error means? Is there a way to fix it and keep the meaning?\n",
        "\n"
      ]
    },
    {
      "cell_type": "code",
      "metadata": {
        "id": "Tb3faM6pYxH6",
        "colab_type": "code",
        "colab": {}
      },
      "source": [
        "d = {1 : \"a\", 2 : \"b\", 3 : \"c\"}\n"
      ],
      "execution_count": 0,
      "outputs": []
    },
    {
      "cell_type": "markdown",
      "metadata": {
        "id": "O6bnwoueYxH8",
        "colab_type": "text"
      },
      "source": [
        "This is a subtle issue, in general, only use one type for keys\n",
        "\n"
      ]
    },
    {
      "cell_type": "code",
      "metadata": {
        "id": "wPJ7FxKFYxH9",
        "colab_type": "code",
        "outputId": "fdd82196-7965-453f-a87e-f74ba758ec9c",
        "colab": {
          "base_uri": "https://localhost:8080/",
          "height": 34
        }
      },
      "source": [
        "d = {1 : 2, 1.0 : 3}\n",
        "# should this be 2 or 3? or both?\n",
        "print(d[1])"
      ],
      "execution_count": 0,
      "outputs": [
        {
          "output_type": "stream",
          "text": [
            "3\n"
          ],
          "name": "stdout"
        }
      ]
    },
    {
      "cell_type": "markdown",
      "metadata": {
        "id": "VrU1cJifYxH_",
        "colab_type": "text"
      },
      "source": [
        "## Conditionals\n",
        "\n"
      ]
    },
    {
      "cell_type": "markdown",
      "metadata": {
        "id": "Vda0_lgBYxH_",
        "colab_type": "text"
      },
      "source": [
        "-   Of course, if you can only evaluate the same way each time, you can't make interesting programs\n",
        "-   Let's look at the `if` construct first\n",
        "-   With `if` you can choose what to do based on a piece of data\n",
        "-   To use it you need (all python blocks will follow this basic template):\n",
        "    -   A line with `if` then an expression which could evaluate to `True` or `False`, then a colon `:`\n",
        "    -   Start a new line, indented versus the previous line by 4 spaces\n",
        "    -   Then, each line after, with the same indentation, will be run if the expression evaluates `True`\n",
        "    -   End the *block* of code by indenting back\n",
        "\n"
      ]
    },
    {
      "cell_type": "code",
      "metadata": {
        "id": "P1aZ7LkvYxIA",
        "colab_type": "code",
        "colab": {}
      },
      "source": [
        "a_number = 1000\n",
        "if a_number > 100:\n",
        "    print(\"That's a big number\")\n",
        "print(\"Was it a big number?\")"
      ],
      "execution_count": 0,
      "outputs": []
    },
    {
      "cell_type": "markdown",
      "metadata": {
        "id": "EfOPViejYxIB",
        "colab_type": "text"
      },
      "source": [
        "## if, elif, else\n",
        "\n"
      ]
    },
    {
      "cell_type": "markdown",
      "metadata": {
        "id": "Hu1ErmCrYxIC",
        "colab_type": "text"
      },
      "source": [
        "-   You can have multiple condition, **only one of which will run** by putting the extra conditions with `elif`\n",
        "-   You can also have an `else` block, which runs only if all the conditions are `False`\n",
        "-   Each `if` `elif` `else` should end with a colon `:` and have an indented block\n",
        "\n"
      ]
    },
    {
      "cell_type": "code",
      "metadata": {
        "id": "-Kl2SbcqYxIC",
        "colab_type": "code",
        "colab": {}
      },
      "source": [
        "a_number = 10\n",
        "if a_number > 100:\n",
        "    print(\"That's a big number.\")\n",
        "elif a_number > 50:\n",
        "    print(\"I guess that's a pretty big number.\")\n",
        "    # Multiple lines\n",
        "    print(\"But {} is bigger\".format(a_number*2))\n",
        "else:\n",
        "    print(\"That number's not big.\")"
      ],
      "execution_count": 0,
      "outputs": []
    },
    {
      "cell_type": "markdown",
      "metadata": {
        "id": "N7tXyl2WYxIE",
        "colab_type": "text"
      },
      "source": [
        "### Exercises:\n",
        "\n"
      ]
    },
    {
      "cell_type": "markdown",
      "metadata": {
        "id": "ngE2bw0mYxIF",
        "colab_type": "text"
      },
      "source": [
        "Copy the cell above, and change it so it uses the other branch of the `if`\n",
        "\n"
      ]
    },
    {
      "cell_type": "code",
      "metadata": {
        "id": "3BTQGXXBYxIF",
        "colab_type": "code",
        "outputId": "838013ad-3a5a-423e-b6e7-e2ffe463f38c",
        "colab": {
          "base_uri": "https://localhost:8080/",
          "height": 34
        }
      },
      "source": [
        "a_number = 200\n",
        "if a_number > 100:\n",
        "    print(\"That's a big number.\")\n",
        "elif a_number > 50:\n",
        "    print(\"I guess that's a pretty big number.\")\n",
        "    # Multiple lines\n",
        "    print(\"But {} is bigger\".format(a_number*2))\n",
        "else:\n",
        "    print(\"That number's not big.\")"
      ],
      "execution_count": 0,
      "outputs": [
        {
          "output_type": "stream",
          "text": [
            "That's a big number.\n"
          ],
          "name": "stdout"
        }
      ]
    },
    {
      "cell_type": "markdown",
      "metadata": {
        "id": "hMZ42E67YxIG",
        "colab_type": "text"
      },
      "source": [
        "Whats wrong with the following? How can we fix them?\n",
        "\n"
      ]
    },
    {
      "cell_type": "code",
      "metadata": {
        "id": "vmZC1t60YxIH",
        "colab_type": "code",
        "outputId": "a39823c2-5167-49c9-a260-2d24aa0cda6e",
        "colab": {
          "base_uri": "https://localhost:8080/",
          "height": 34
        }
      },
      "source": [
        "i = 8\n",
        "if i % 3 == 0:\n",
        "    print(\"Fizz\")\n",
        "elif i % 5 == 0:\n",
        "    print(i)\n",
        "else:     \n",
        "    print(i)"
      ],
      "execution_count": 0,
      "outputs": [
        {
          "output_type": "stream",
          "text": [
            "8\n"
          ],
          "name": "stdout"
        }
      ]
    },
    {
      "cell_type": "code",
      "metadata": {
        "id": "H-FMPpziYxIN",
        "colab_type": "code",
        "outputId": "77b9edb4-6bd8-4a15-90e7-209a892b8ff4",
        "colab": {
          "base_uri": "https://localhost:8080/",
          "height": 34
        }
      },
      "source": [
        "i = 8\n",
        "if i % 3 == 0:\n",
        "    print(\"Fizz\")\n",
        "elif i % 5 == 0:\n",
        "    print(\"Buzz\")\n",
        "else:\n",
        "  print(i, end=' ')\n",
        "print(\"is a number\")"
      ],
      "execution_count": 0,
      "outputs": [
        {
          "output_type": "stream",
          "text": [
            "8 is a number\n"
          ],
          "name": "stdout"
        }
      ]
    },
    {
      "cell_type": "code",
      "metadata": {
        "id": "R5lyG5dlYxIS",
        "colab_type": "code",
        "outputId": "de2eaef6-73e4-404b-ac8c-d8d7275fe2a9",
        "colab": {
          "base_uri": "https://localhost:8080/",
          "height": 34
        }
      },
      "source": [
        "i = 8\n",
        "if i % 3 == 0:\n",
        "    print(\"Fizz\")\n",
        "elif i % 5 == 0:\n",
        "    print(\"Buzz\")\n",
        "else:\n",
        "    print(i)"
      ],
      "execution_count": 0,
      "outputs": [
        {
          "output_type": "stream",
          "text": [
            "8\n"
          ],
          "name": "stdout"
        }
      ]
    },
    {
      "cell_type": "markdown",
      "metadata": {
        "id": "W82VxA_CYxIT",
        "colab_type": "text"
      },
      "source": [
        "This one is a bit trickier, see if you can figure out the error message!\n",
        "\n"
      ]
    },
    {
      "cell_type": "code",
      "metadata": {
        "id": "M2aIzK78YxIU",
        "colab_type": "code",
        "outputId": "4f513579-15dc-41e2-973a-2e3549c15925",
        "colab": {
          "base_uri": "https://localhost:8080/",
          "height": 52
        }
      },
      "source": [
        "i = 7\n",
        "if i % 3 == 0:\n",
        "    print(\"Fizz\")\n",
        "elif i % 5 == 0:\n",
        "    print(\"Buzz\")\n",
        "else:\n",
        "    print(i)\n",
        "print(\"is a number\")"
      ],
      "execution_count": 0,
      "outputs": [
        {
          "output_type": "stream",
          "text": [
            "7\n",
            "is a number\n"
          ],
          "name": "stdout"
        }
      ]
    },
    {
      "cell_type": "markdown",
      "metadata": {
        "id": "8-PBA6rVYxIV",
        "colab_type": "text"
      },
      "source": [
        "## Loops: while\n",
        "\n"
      ]
    },
    {
      "cell_type": "markdown",
      "metadata": {
        "id": "QS6gpxUOYxIW",
        "colab_type": "text"
      },
      "source": [
        "-   Often we want to do something many time with slightly different data, we want to *loop*\n",
        "-   One way is using `while`\n",
        "-   `while` takes a condition (like `if`), and keeps repeating the block\n",
        "    of code until the condition is False (so you should make sure to\n",
        "    change the data so it becomes False at some point!)\n",
        "\n"
      ]
    },
    {
      "cell_type": "code",
      "metadata": {
        "id": "FTTxDjeGYxIX",
        "colab_type": "code",
        "outputId": "b1b70358-705a-4c6c-f013-4f2784d400c8",
        "colab": {
          "base_uri": "https://localhost:8080/",
          "height": 86
        }
      },
      "source": [
        "i = 0\n",
        "while i < 4:\n",
        "    print(i)\n",
        "    i += 1  # This is the same as \"i = i + 1\""
      ],
      "execution_count": 0,
      "outputs": [
        {
          "output_type": "stream",
          "text": [
            "0\n",
            "1\n",
            "2\n",
            "3\n"
          ],
          "name": "stdout"
        }
      ]
    },
    {
      "cell_type": "markdown",
      "metadata": {
        "id": "VG3YjIwbYxIY",
        "colab_type": "text"
      },
      "source": [
        "## Loops: for\n",
        "\n"
      ]
    },
    {
      "cell_type": "markdown",
      "metadata": {
        "id": "aa3w6v2QYxIZ",
        "colab_type": "text"
      },
      "source": [
        "-   If we want to loop over a list (or something list-like), we could write a `while` loop over the indices:\n",
        "\n"
      ]
    },
    {
      "cell_type": "code",
      "metadata": {
        "id": "jATQzpWGYxIZ",
        "colab_type": "code",
        "outputId": "01ea5c66-5682-4217-c548-52eedb152d4b",
        "colab": {
          "base_uri": "https://localhost:8080/",
          "height": 69
        }
      },
      "source": [
        "lst = [\"a\", \"b\", \"c\"]\n",
        "i = 0\n",
        "while i < len(lst):\n",
        "    print(lst[i])\n",
        "    i = i+1"
      ],
      "execution_count": 0,
      "outputs": [
        {
          "output_type": "stream",
          "text": [
            "a\n",
            "b\n",
            "c\n"
          ],
          "name": "stdout"
        }
      ]
    },
    {
      "cell_type": "markdown",
      "metadata": {
        "id": "EL_YaBH8YxIb",
        "colab_type": "text"
      },
      "source": [
        "-   But its easier to use `for`, which has the following syntax:\n",
        "    -   `for` <item> `in` <listy object> `:`\n",
        "    -   And then a block\n",
        "    -   It will run over the list for you! (you can use any name you like for the item)\n",
        "\n"
      ]
    },
    {
      "cell_type": "code",
      "metadata": {
        "id": "JdVWpHpTYxIc",
        "colab_type": "code",
        "outputId": "c6908145-c0e1-4991-a834-fb9c5bdb311e",
        "colab": {
          "base_uri": "https://localhost:8080/",
          "height": 69
        }
      },
      "source": [
        "lst = [\"a\", \"b\", \"c\"]\n",
        "for iii in lst:\n",
        "    print(iii)"
      ],
      "execution_count": 0,
      "outputs": [
        {
          "output_type": "stream",
          "text": [
            "a\n",
            "b\n",
            "c\n"
          ],
          "name": "stdout"
        }
      ]
    },
    {
      "cell_type": "markdown",
      "metadata": {
        "id": "dVNfb63LYxId",
        "colab_type": "text"
      },
      "source": [
        "-   [What does list-like mean? Well, it could be a list, tuple,\n",
        "    dictionary, or *generator*, which is a special type of function that\n",
        "    can output one item at a time. E.g. `range` is a generator]\n",
        "\n"
      ]
    },
    {
      "cell_type": "markdown",
      "metadata": {
        "id": "1AlUu71VYxIe",
        "colab_type": "text"
      },
      "source": [
        "### Exercises:\n",
        "\n"
      ]
    },
    {
      "cell_type": "markdown",
      "metadata": {
        "id": "6R6WyaMLYxIe",
        "colab_type": "text"
      },
      "source": [
        "This code isn't quite working, whats wrong? How can I fix it?\n",
        "\n"
      ]
    },
    {
      "cell_type": "code",
      "metadata": {
        "id": "InT6W6SiYxIe",
        "colab_type": "code",
        "outputId": "22f0e89e-8512-4759-f561-9975f931fc5e",
        "colab": {
          "base_uri": "https://localhost:8080/",
          "height": 1000
        }
      },
      "source": [
        "for i in range(1, 100):\n",
        "    if i % 15 == 0:  # or \"elif i%3==0 and i%5==0:\"  \n",
        "        print(\"Fizz\")\n",
        "    elif i % 5 == 0:\n",
        "        print(\"Buzz\")\n",
        "    elif i % 3 == 0:\n",
        "        print(\"FizzBuzz\")\n",
        "    else:\n",
        "        print(i)"
      ],
      "execution_count": 0,
      "outputs": [
        {
          "output_type": "stream",
          "text": [
            "1\n",
            "2\n",
            "FizzBuzz\n",
            "4\n",
            "Buzz\n",
            "FizzBuzz\n",
            "7\n",
            "8\n",
            "FizzBuzz\n",
            "Buzz\n",
            "11\n",
            "FizzBuzz\n",
            "13\n",
            "14\n",
            "Fizz\n",
            "16\n",
            "17\n",
            "FizzBuzz\n",
            "19\n",
            "Buzz\n",
            "FizzBuzz\n",
            "22\n",
            "23\n",
            "FizzBuzz\n",
            "Buzz\n",
            "26\n",
            "FizzBuzz\n",
            "28\n",
            "29\n",
            "Fizz\n",
            "31\n",
            "32\n",
            "FizzBuzz\n",
            "34\n",
            "Buzz\n",
            "FizzBuzz\n",
            "37\n",
            "38\n",
            "FizzBuzz\n",
            "Buzz\n",
            "41\n",
            "FizzBuzz\n",
            "43\n",
            "44\n",
            "Fizz\n",
            "46\n",
            "47\n",
            "FizzBuzz\n",
            "49\n",
            "Buzz\n",
            "FizzBuzz\n",
            "52\n",
            "53\n",
            "FizzBuzz\n",
            "Buzz\n",
            "56\n",
            "FizzBuzz\n",
            "58\n",
            "59\n",
            "Fizz\n",
            "61\n",
            "62\n",
            "FizzBuzz\n",
            "64\n",
            "Buzz\n",
            "FizzBuzz\n",
            "67\n",
            "68\n",
            "FizzBuzz\n",
            "Buzz\n",
            "71\n",
            "FizzBuzz\n",
            "73\n",
            "74\n",
            "Fizz\n",
            "76\n",
            "77\n",
            "FizzBuzz\n",
            "79\n",
            "Buzz\n",
            "FizzBuzz\n",
            "82\n",
            "83\n",
            "FizzBuzz\n",
            "Buzz\n",
            "86\n",
            "FizzBuzz\n",
            "88\n",
            "89\n",
            "Fizz\n",
            "91\n",
            "92\n",
            "FizzBuzz\n",
            "94\n",
            "Buzz\n",
            "FizzBuzz\n",
            "97\n",
            "98\n",
            "FizzBuzz\n"
          ],
          "name": "stdout"
        }
      ]
    },
    {
      "cell_type": "markdown",
      "metadata": {
        "id": "x5vt404hYxIg",
        "colab_type": "text"
      },
      "source": [
        "## Functions\n",
        "\n"
      ]
    },
    {
      "cell_type": "markdown",
      "metadata": {
        "id": "3vS9FInxYxIh",
        "colab_type": "text"
      },
      "source": [
        "-   The last python object we'll consider is the function\n",
        "-   We've been using functions already, like `len`, or `format`\n",
        "-   You pass the function *arguments* to be used inside the function\n",
        "    -   `len(lst)`, `math.log(10, 2)`\n",
        "-   You define with `def`, you need to name it, and give a *parameter list*\n",
        "    -   For each *parameter* of you function, you expect the user of your\n",
        "        function to pass an *argument*\n",
        "-   You can do work inside the function, then you can `return` a value back to the user\n",
        "\n"
      ]
    },
    {
      "cell_type": "code",
      "metadata": {
        "id": "m319YwVJYxIh",
        "colab_type": "code",
        "colab": {}
      },
      "source": [
        "def add_3_numbers(a, b, c):\n",
        "   return a+b+c\n",
        "\n",
        "d = add_3_numbers(1, 2, 3) # d will be set to 6"
      ],
      "execution_count": 0,
      "outputs": []
    },
    {
      "cell_type": "markdown",
      "metadata": {
        "id": "RP1yfOhJYxIj",
        "colab_type": "text"
      },
      "source": [
        "## Functions (continued)\n",
        "\n"
      ]
    },
    {
      "cell_type": "markdown",
      "metadata": {
        "id": "7UNXwiZgYxIk",
        "colab_type": "text"
      },
      "source": [
        "-   You can return multiple value by using a `,` between values (technically, it returns a tuple)\n",
        "\n"
      ]
    },
    {
      "cell_type": "code",
      "metadata": {
        "id": "YKzOHt_TYxIk",
        "colab_type": "code",
        "colab": {}
      },
      "source": [
        "def some_numbers():  # This function doesn't take any arguments\n",
        "  \"Return some numbers as a tuple\"  # This is a docstring, \n",
        "                         # if you type help(some_numbers),\n",
        "                         # it will display this message\n",
        "  return 1, 2, 3, 4"
      ],
      "execution_count": 0,
      "outputs": []
    },
    {
      "cell_type": "code",
      "metadata": {
        "id": "UFj-G_QpYxIt",
        "colab_type": "code",
        "colab": {}
      },
      "source": [
        ""
      ],
      "execution_count": 0,
      "outputs": []
    },
    {
      "cell_type": "markdown",
      "metadata": {
        "id": "BlVyRfgOYxIv",
        "colab_type": "text"
      },
      "source": [
        "-   You can pass function values around like any other, including into functions\n",
        "\n"
      ]
    },
    {
      "cell_type": "code",
      "metadata": {
        "id": "kkInfdWVYxIv",
        "colab_type": "code",
        "colab": {}
      },
      "source": [
        "def apply_3_to_f(f):\n",
        "    \"\"\"You should pass in a function of one variable,\n",
        "we apply 3 to that function\"\"\"\n",
        "    return f(3)"
      ],
      "execution_count": 0,
      "outputs": []
    },
    {
      "cell_type": "markdown",
      "metadata": {
        "id": "0G9aXnIDYxIw",
        "colab_type": "text"
      },
      "source": [
        "## Notes on Python Objects\n",
        "\n"
      ]
    },
    {
      "cell_type": "markdown",
      "metadata": {
        "id": "jKlLmw8jYxIw",
        "colab_type": "text"
      },
      "source": [
        "-   Functions can also attach to objects, which can be access with <object> `.` and the name of the function\n",
        "\n"
      ]
    },
    {
      "cell_type": "code",
      "metadata": {
        "id": "kG2642UnYxIx",
        "colab_type": "code",
        "colab": {}
      },
      "source": [
        "s = \"a string\"\n",
        "s.split()"
      ],
      "execution_count": 0,
      "outputs": []
    },
    {
      "cell_type": "markdown",
      "metadata": {
        "id": "LZHrP56dYxIz",
        "colab_type": "text"
      },
      "source": [
        "-   The function implicitly takes the object as the first parameter\n",
        "    -   s.split() is equivalent to `string.split(s)`\n",
        "-   This is part of a more general programming idea called\n",
        "    *object-oriented programming*, where objects are containers that can\n",
        "    hold values and functions\n",
        "-   It possible to create and fill objects yourself, using `class`, but\n",
        "    its beyond the scope for this course\n",
        "-   For now, just be aware that you can access data attached to a python\n",
        "    object with `.` when needed, and `dir(object)` will show you the\n",
        "    names of the data attached to the object\n",
        "\n"
      ]
    },
    {
      "cell_type": "markdown",
      "metadata": {
        "id": "VgTs7KJOYxIz",
        "colab_type": "text"
      },
      "source": [
        "## Modules and Importing\n",
        "\n"
      ]
    },
    {
      "cell_type": "markdown",
      "metadata": {
        "id": "AbZeLuxfYxI0",
        "colab_type": "text"
      },
      "source": [
        "-   The basic functionality python provides is usually not enough\n",
        "-   Fortunately, python comes with (or we can download from the internet\n",
        "    or write ourselves) a huge range of packages to do almost anything\n",
        "-   The packages are referred to as *modules*, and a module is basically\n",
        "    a collection of useful functions and variables for a particular task\n",
        "-   To gain we `import` them to gain access to their functions and\n",
        "    variables, for which we use the dot operator `.`\n",
        "-   For example, we might want to calculate the logarithm of some\n",
        "    number, but base python doesn't have a log function.\n",
        "-   Fortunately, the `math` module provides several such functions\n",
        "\n"
      ]
    },
    {
      "cell_type": "code",
      "metadata": {
        "id": "ImEshmifYxI1",
        "colab_type": "code",
        "colab": {}
      },
      "source": [
        "import math\n",
        "# use a single \\ at the end of a long line to continue it\n",
        "math.log(2.717), math.log10(3), math.log(3, 10), \\\n",
        "   math.log(2.717, math.e)"
      ],
      "execution_count": 0,
      "outputs": []
    },
    {
      "cell_type": "markdown",
      "metadata": {
        "id": "P8foZbJMYxI3",
        "colab_type": "text"
      },
      "source": [
        "| 0.9995283304442107|0.47712125471966244|0.47712125471966244|0.9995283304442107|\n",
        "\n"
      ]
    },
    {
      "cell_type": "markdown",
      "metadata": {
        "id": "23wcNW1XYxI3",
        "colab_type": "text"
      },
      "source": [
        "## More on modules\n",
        "\n"
      ]
    },
    {
      "cell_type": "markdown",
      "metadata": {
        "id": "9LChxypnYxI4",
        "colab_type": "text"
      },
      "source": [
        "-   A module might contain just python code, which can be fine\n",
        "-   But the python interpreter (at least, the usual one), is slooooooowww&#x2026;..\n",
        "-   So, typically, the functions in a module are *wrappers* around a\n",
        "    compiled function, written in a fast language like C\n",
        "-   When we talk about `numpy` next week, the reason it can do math much\n",
        "    faster than handwritten python code is because its using speedy C\n",
        "    libraries under the hood\n",
        "-   Finally, a useful function to explore a new module is `dir`, given a\n",
        "    module, it will tell you what the module contains\n",
        "    -   Functions with underscores `_` are for internal or special use,\n",
        "        you should probably ignore them\n",
        "\n"
      ]
    },
    {
      "cell_type": "code",
      "metadata": {
        "id": "PtAduddoYxI4",
        "colab_type": "code",
        "colab": {}
      },
      "source": [
        "import math\n",
        "dir(math)"
      ],
      "execution_count": 0,
      "outputs": []
    },
    {
      "cell_type": "markdown",
      "metadata": {
        "id": "7yUDhLUxYxI5",
        "colab_type": "text"
      },
      "source": [
        "### Exercises:\n",
        "\n"
      ]
    },
    {
      "cell_type": "markdown",
      "metadata": {
        "id": "b6pEWgYnYxI8",
        "colab_type": "text"
      },
      "source": [
        "A few important modules:\n",
        "\n",
        "The `sys` package contains system-specific functions that, in\n",
        "particular, interact with the interpreter in some way. For example,\n",
        "`sys.path` contains all the directories the interpreter will look at\n",
        "in order to find a module. When you `import`, the interpreter looks in\n",
        "these directories for a python file with the same name as the module\n",
        "you are trying to import, or a directory of the module name containing\n",
        "an `__init__.py` file.\n",
        "\n",
        "Whats in `sys.path` on colab? If you can, try running on your local\n",
        "machine also, to see the difference\n",
        "\n"
      ]
    },
    {
      "cell_type": "code",
      "metadata": {
        "id": "Mmj9YKEaYxI8",
        "colab_type": "code",
        "colab": {}
      },
      "source": [
        "import sys\n",
        "sys.path"
      ],
      "execution_count": 0,
      "outputs": []
    },
    {
      "cell_type": "markdown",
      "metadata": {
        "id": "fZaQ5DiOYxI-",
        "colab_type": "text"
      },
      "source": [
        "The `os` module provides functions that relate to the operating system\n",
        "that python is being run on. For example, `os.system` will execute a\n",
        "command as if you ran it at the terminal\n",
        "\n"
      ]
    },
    {
      "cell_type": "code",
      "metadata": {
        "id": "6M35yttpYxI-",
        "colab_type": "code",
        "colab": {}
      },
      "source": [
        "import os\n",
        "os.system('ls .')"
      ],
      "execution_count": 0,
      "outputs": []
    },
    {
      "cell_type": "markdown",
      "metadata": {
        "id": "rwjgEl-6YxI_",
        "colab_type": "text"
      },
      "source": [
        "What else does the `os` module contain?\n",
        "\n"
      ]
    },
    {
      "cell_type": "code",
      "metadata": {
        "id": "PDOLCMWgYxJA",
        "colab_type": "code",
        "colab": {}
      },
      "source": [
        ""
      ],
      "execution_count": 0,
      "outputs": []
    },
    {
      "cell_type": "markdown",
      "metadata": {
        "id": "Qg5LQ8LLYxJB",
        "colab_type": "text"
      },
      "source": [
        "## (More) Exercises\n",
        "\n"
      ]
    },
    {
      "cell_type": "markdown",
      "metadata": {
        "id": "aE7q0QuwYxJC",
        "colab_type": "text"
      },
      "source": [
        "-   `assert` is a function which will throw an error if you don't pass it True\n",
        "-   The goal of these exercises is to write a function, and make all the\n",
        "    `assert`'s pass (i.e. they shouldn't give an error)\n",
        "-   This is sometimes called Test Driven Development, you write tests\n",
        "    your function should pass, before writing the function\n",
        "    -   If you \"fix\" your function later (e.g. to add more functionality),\n",
        "        you can also check you didn't screw up your function later\n",
        "\n",
        "Fix this greeting function, it should say Hello to the user, given\n",
        "his/her name, but its not working\n",
        "\n"
      ]
    },
    {
      "cell_type": "code",
      "metadata": {
        "id": "tq3Y3i48YxJC",
        "colab_type": "code",
        "outputId": "1be62712-c58f-4b04-9b7b-a2ec8f4b914d",
        "colab": {
          "base_uri": "https://localhost:8080/",
          "height": 34
        }
      },
      "source": [
        "def greet(name):\n",
        "    return \"Hello, %s\" %name\n",
        "\n",
        "print(greet(\"Frodo\"))\n",
        "# These shouldn't give an error after you write your function\n",
        "assert(greet(\"Frodo\") == \"Hello, Frodo\")\n",
        "assert(greet(\"Sam\") == \"Hello, Sam\")\n",
        "assert(greet(\"Gandalf\") == \"Hello, Gandalf\")"
      ],
      "execution_count": 0,
      "outputs": [
        {
          "output_type": "stream",
          "text": [
            "Hello, Frodo\n"
          ],
          "name": "stdout"
        }
      ]
    },
    {
      "cell_type": "markdown",
      "metadata": {
        "id": "cf4tNQ4uYxJD",
        "colab_type": "text"
      },
      "source": [
        "Write `greet` again, but this time, if Frodo asks to be greeted, you\n",
        "should print a special message\n",
        "\n"
      ]
    },
    {
      "cell_type": "code",
      "metadata": {
        "id": "xiS7gVjOYxJE",
        "colab_type": "code",
        "colab": {}
      },
      "source": [
        "def greet(name):\n",
        "    if name ==  \"Frodo\":\n",
        "        return \"Take the ring, Frodo\"\n",
        "    \n",
        "    else :\n",
        "        return \"Hello, %s\" %name\n",
        "        \n",
        "   \n",
        "\n",
        "\n",
        "# These shouldn't give an error after you write your function\n",
        "assert(greet(\"Frodo\") == \"Take the ring, Frodo\")\n",
        "assert(greet(\"Sam\") == \"Hello, Sam\")\n",
        "assert(greet(\"Gandalf\") == \"Hello, Gandalf\")"
      ],
      "execution_count": 0,
      "outputs": []
    },
    {
      "cell_type": "markdown",
      "metadata": {
        "id": "-LlYJIahYxJF",
        "colab_type": "text"
      },
      "source": [
        "Write a function `is_odd` that returns `True` if the input is odd or\n",
        "`False` if its even\n",
        "\n"
      ]
    },
    {
      "cell_type": "code",
      "metadata": {
        "id": "32jk1Vu6YxJF",
        "colab_type": "code",
        "colab": {}
      },
      "source": [
        "def is_odd():\n",
        "  assert(is_odd(3) == True)\n",
        "  assert(is_odd(2) == False)\n",
        "  assert(is_odd(1327) == True)"
      ],
      "execution_count": 0,
      "outputs": []
    },
    {
      "cell_type": "markdown",
      "metadata": {
        "id": "_qbr245BYxJH",
        "colab_type": "text"
      },
      "source": [
        "Write a function `mysum` that sums numbers when passed in a list\n",
        "[there is a built-in sum function, but dont use that]\n",
        "\n"
      ]
    },
    {
      "cell_type": "code",
      "metadata": {
        "id": "TtBhCy5oYxJJ",
        "colab_type": "code",
        "colab": {}
      },
      "source": [
        "# your function goes here\n",
        "def mysum():\n",
        "  assert(mysum[1,2,3] == 6)\n",
        "  assert(mysum[1,2] == 2)\n",
        "  assert(mysum() == 0)"
      ],
      "execution_count": 0,
      "outputs": []
    },
    {
      "cell_type": "markdown",
      "metadata": {
        "id": "ROJY-CFkYxJM",
        "colab_type": "text"
      },
      "source": [
        "Write a function `every_other_element` that returns the first, third, fifth, etc. elements of a list\n",
        "\n"
      ]
    },
    {
      "cell_type": "code",
      "metadata": {
        "id": "Kxs4aENmYxJN",
        "colab_type": "code",
        "colab": {}
      },
      "source": [
        "def every_other_element():\n",
        "  assert(every_other_element([1, 2, 3, 4, 5] == [1, 3, 5]))\n",
        "  assert(every_other_element([]) == [])\n",
        "  assert(every_other_element([1]) == [1])"
      ],
      "execution_count": 0,
      "outputs": []
    },
    {
      "cell_type": "markdown",
      "metadata": {
        "id": "awjZ0R60YxJO",
        "colab_type": "text"
      },
      "source": [
        "The Fibonacci numbers are a sequence that goes 1, 1, 2, 3, 5, 8, 13,\n",
        "&#x2026; where the next number is the sum of the previous two (starting\n",
        "with 1, 1). Write a function that takes in n, and outputs the nth\n",
        "Fibonacci number (where fibonacci(1)==1, fibonacci(2)==1)\n",
        "\n"
      ]
    },
    {
      "cell_type": "code",
      "metadata": {
        "id": "wMrUUXi3YxJO",
        "colab_type": "code",
        "colab": {}
      },
      "source": [
        "def fibonacci():\n",
        "  assert(fibonacci(1) == 1)\n",
        "  assert(fibonacci(2) == 1)\n",
        "  assert(fibonacci(5) == 5)\n",
        "  assert(fibonacci(7) == 13)\n",
        "  assert(fibonacci(20) == 6765)\n",
        "  assert(fibonacci(50) == 12586269025)"
      ],
      "execution_count": 0,
      "outputs": []
    },
    {
      "cell_type": "markdown",
      "metadata": {
        "id": "mq684PS9YxJS",
        "colab_type": "text"
      },
      "source": [
        "Write a function that takes two lists, and outputs True if they\n",
        "`overlap`, that is, if are there elements that appear in both lists\n",
        "\n"
      ]
    },
    {
      "cell_type": "code",
      "metadata": {
        "id": "GBUiGJ5aYxJT",
        "colab_type": "code",
        "colab": {}
      },
      "source": [
        "def overlap():\n",
        "  assert(overlap([1], [1])==True)\n",
        "  assert(overlap([1], [2])==False)\n",
        "  assert(overlap([1], [2,3,4,5])==False)\n",
        "  assert(overlap([9,7,2,1], [2,3,4,5])==True)\n",
        "  assert(overlap([9,7,2,4], [2,3,4,5])==True)\n",
        "  assert(overlap([9,7,22,44], [2,3,4,5])==False)"
      ],
      "execution_count": 0,
      "outputs": []
    },
    {
      "cell_type": "markdown",
      "metadata": {
        "id": "Mj2dUSYjYxJU",
        "colab_type": "text"
      },
      "source": [
        "There is a very useful function called `map` which takes a function\n",
        "and a list, and returns a list made by applying the function to each\n",
        "element of the list. Write `mymap` which duplicates this\n",
        "functionality. Don't use `map`, obviously.\n",
        "\n"
      ]
    },
    {
      "cell_type": "code",
      "metadata": {
        "id": "T27TD_F8YxJV",
        "colab_type": "code",
        "colab": {}
      },
      "source": [
        "def mymap():\n",
        "  assert(mymap(lambda x: x*2, [1, 2, 3]) == [2, 4, 6]) # lambda is a way to make short functions of one line\n",
        "  assert(mymap(lambda x: x*2, []) == [])\n",
        "  assert(mymap(lambda x: x**2, [1, 2, 3]) == [1, 4, 9])\n",
        "  assert(mymap(lambda x: x[0], [[1], [2,3], [3,4]]) == [1, 2, 3])"
      ],
      "execution_count": 0,
      "outputs": []
    },
    {
      "cell_type": "markdown",
      "metadata": {
        "id": "VMYfQdclYxJW",
        "colab_type": "text"
      },
      "source": [
        "Remember to save to github and log out\n",
        "\n"
      ]
    }
  ]
}